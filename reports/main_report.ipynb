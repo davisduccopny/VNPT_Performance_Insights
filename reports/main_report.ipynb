{
 "cells": [
  {
   "cell_type": "markdown",
   "metadata": {},
   "source": [
    "## VNPT PERFORMANCE INSIGHTS"
   ]
  },
  {
   "cell_type": "markdown",
   "metadata": {},
   "source": [
    "#### Các bước cần thực hiện:\n",
    " 1. Module login \n",
    "   - Xây dựng bảng users, users_roles.\n",
    "   - Thiết kế form login.\n",
    "   - Xử lý login. \n",
    "   - Xử lý robot.\n",
    " 2. Module insert data\n",
    "   - Xây dựng bảng data.\n",
    "   - Thiết kế form insert data.\n",
    "   - Xử lý insert data.\n",
    "  3. Module view data\n",
    "   - Xây dựng form xuất\n",
    "   - Xử lý biểu đồ\n",
    "   - Xử lý xuất file\n",
    "    \n"
   ]
  },
  {
   "cell_type": "code",
   "execution_count": 1,
   "metadata": {},
   "outputs": [],
   "source": [
    "import streamlit as st\n",
    "import pandas as pd\n",
    "import mysql.connector\n",
    "from mysql.connector import pooling, Error\n",
    "from mysql.connector import OperationalError, InternalError\n",
    "import base64\n",
    "import datetime\n",
    "from streamlit_option_menu import option_menu\n",
    "from datetime import date\n",
    "import os\n",
    "import numpy as np\n",
    "import io\n",
    "from openpyxl.styles import Font, Border, Side\n",
    "from openpyxl import Workbook\n",
    "import openpyxl\n",
    "import time\n",
    "import xlsxwriter\n",
    "import sys\n",
    "from openpyxl.styles import PatternFill\n",
    "import requests"
   ]
  },
  {
   "cell_type": "markdown",
   "metadata": {},
   "source": [
    "### Income and outcome"
   ]
  },
  {
   "cell_type": "markdown",
   "metadata": {},
   "source": [
    "#### Database connect"
   ]
  },
  {
   "cell_type": "code",
   "execution_count": 2,
   "metadata": {},
   "outputs": [],
   "source": [
    "def connect_to_mysql():\n",
    "    try:\n",
    "        conn = mysql.connector.connect(\n",
    "            host='103.200.23.68',\n",
    "            user='samryvnc_anhemtamke',\n",
    "            password='Tamke@123',\n",
    "            database='samryvnc_vnpt_performance_insights'\n",
    "        )\n",
    "        cursor = conn.cursor()\n",
    "\n",
    "        print(\"Kết nối đến cơ sở dữ liệu thành công.\")\n",
    "        \n",
    "        return conn, cursor\n",
    "    except Exception as e:\n",
    "        print(\"Lỗi khi kết nối đến cơ sở dữ liệu:\", e)\n",
    "        return None, None"
   ]
  },
  {
   "cell_type": "code",
   "execution_count": 3,
   "metadata": {},
   "outputs": [],
   "source": [
    "# Hàm thực hiện sql trong python\n",
    "def execute_query_CRUD(conn, query):\n",
    "    try:\n",
    "        cursor = conn.cursor()\n",
    "        cursor.execute(query)\n",
    "        conn.commit()\n",
    "        return \"Thực hiện thành công\"\n",
    "    except mysql.connector.Error as e:\n",
    "        return f\"Thực hiện thất bại: {e}\""
   ]
  },
  {
   "cell_type": "code",
   "execution_count": 10,
   "metadata": {},
   "outputs": [
    {
     "name": "stdout",
     "output_type": "stream",
     "text": [
      "Kết nối đến cơ sở dữ liệu thành công.\n"
     ]
    }
   ],
   "source": [
    "conn,cursor = connect_to_mysql()"
   ]
  },
  {
   "cell_type": "markdown",
   "metadata": {},
   "source": [
    "### 1. INSERT DATA"
   ]
  },
  {
   "cell_type": "code",
   "execution_count": 12,
   "metadata": {},
   "outputs": [],
   "source": [
    "def query_dichvu_from_database(conn, cursor):\n",
    "    # đoạn code select\n",
    "    query = \"SELECT ma_dv_id66, ten_dv, danh_muc_tt FROM dichvu\"\n",
    "    cursor.execute(query)\n",
    "    result = cursor.fetchall()\n",
    "    ma_dv_66 = [row[0] for row in result]\n",
    "    ten_dv_66 = [row[1] for row in result]\n",
    "    danh_muc_tt = [row[2] for row in result]\n",
    "    # đoạn code tranform\n",
    "    df_dichvu = pd.DataFrame(list(zip(ma_dv_66, ten_dv_66, danh_muc_tt)), columns =['Mã dịch vụ', 'Tên dịch vụ', 'Danh mục TT'])\n",
    "    nhom_dv_so_doanh_nghiep = df_dichvu[df_dichvu['Danh mục TT'] == 'Dịch vụ số doanh nghiệp']\n",
    "    nhom_dv_so_ca_nhan = df_dichvu[df_dichvu['Danh mục TT'] == 'Dịch vụ số cá nhân']\n",
    "    nhom_dv_vien_thong = df_dichvu[df_dichvu['Danh mục TT'] == 'Dịch vụ Viễn thông']\n",
    "    nhom_dv_so_doanh_nghiep_id = list(nhom_dv_so_doanh_nghiep['Mã dịch vụ'])\n",
    "    nhom_dv_so_ca_nhan_id = list(nhom_dv_so_ca_nhan['Mã dịch vụ'])\n",
    "    nhom_dv_vien_thong_id = list(nhom_dv_vien_thong['Mã dịch vụ'])\n",
    "    nhom_dv_so_doanh_nghiep_name = list(nhom_dv_so_doanh_nghiep['Tên dịch vụ'])\n",
    "    nhom_dv_so_ca_nhan_name = list(nhom_dv_so_ca_nhan['Tên dịch vụ'])\n",
    "    nhom_dv_vien_thong_name = list(nhom_dv_vien_thong['Tên dịch vụ'])\n",
    "    return nhom_dv_so_doanh_nghiep_id, nhom_dv_so_ca_nhan_id, nhom_dv_vien_thong_id, nhom_dv_so_doanh_nghiep_name, nhom_dv_so_ca_nhan_name, nhom_dv_vien_thong_name"
   ]
  },
  {
   "cell_type": "code",
   "execution_count": 22,
   "metadata": {},
   "outputs": [],
   "source": [
    "nhom_dv_so_doanh_nghiep_id, nhom_dv_so_ca_nhan_id, nhom_dv_vien_thong_id, nhom_dv_so_doanh_nghiep_name, nhom_dv_so_ca_nhan_name, nhom_dv_vien_thong_name = query_dichvu_from_database(conn,cursor)"
   ]
  },
  {
   "cell_type": "markdown",
   "metadata": {},
   "source": [
    "#### 1.1 Part cho kế hoạch"
   ]
  },
  {
   "cell_type": "code",
   "execution_count": 158,
   "metadata": {},
   "outputs": [],
   "source": [
    "def select_rows_kehoach_for_insert(data, nhom_dv_so_doanh_nghiep_id, nhom_dv_so_ca_nhan_id, nhom_dv_vien_thong_id):\n",
    "    \"\"\"\n",
    "    Lọc các dòng từ DataFrame `data` với điều kiện giá trị trong cột `id_dv_606` nằm trong `nhom_dv_id`.\n",
    "    \"\"\"\n",
    "    nhom_dv_id = pd.concat([pd.DataFrame(nhom_dv_so_doanh_nghiep_id), pd.DataFrame(nhom_dv_so_ca_nhan_id), pd.DataFrame(nhom_dv_vien_thong_id)])\n",
    "    nhom_dv_id = nhom_dv_id.rename(columns={0: 'id_dv'})\n",
    "    if 'id_dv_606' not in data.columns:\n",
    "        raise ValueError(\"Cột 'id_dv_606' không tồn tại trong DataFrame.\")\n",
    "\n",
    "    \n",
    "    if isinstance(nhom_dv_id, pd.DataFrame):\n",
    "        nhom_dv_id = nhom_dv_id['id_dv'].tolist()  \n",
    "    \n",
    "   \n",
    "    nhom_dv_id_clean = list(set(nhom_dv_id))\n",
    "    \n",
    "    \n",
    "    subset = data[data['id_dv_606'].isin(nhom_dv_id_clean)]\n",
    "\n",
    "    return subset"
   ]
  },
  {
   "cell_type": "code",
   "execution_count": 159,
   "metadata": {},
   "outputs": [],
   "source": [
    "data_insert_kehoach = pd.read_excel('../data/input_kehoach.xlsx')"
   ]
  },
  {
   "cell_type": "code",
   "execution_count": 160,
   "metadata": {},
   "outputs": [],
   "source": [
    "subset_df = select_rows_kehoach_for_insert(data_insert_kehoach,  nhom_dv_so_doanh_nghiep_id, nhom_dv_so_ca_nhan_id, nhom_dv_vien_thong_id)"
   ]
  },
  {
   "cell_type": "code",
   "execution_count": null,
   "metadata": {},
   "outputs": [],
   "source": [
    "def insertData_kehoach_to_database(line, year,loaidoanhthu, data,conn, cursor):\n",
    "# Lặp qua từng hàng trong DataFrame\n",
    "    for index, row in data.iterrows():\n",
    "        # Câu lệnh SQL để insert dữ liệu\n",
    "        sql = \"\"\"INSERT INTO kehoach\n",
    "                (ma_nv,id_dv_606,t1,t2,t3,t4,t5,t6,t7,t8,t9,t10,t11,t12,line,year_insert,loaidoanhthu)\n",
    "                VALUES (%s, %s, %s, %s, %s, %s, %s, %s, %s, %s, %s, %s, %s, %s, %s, %s, %s)\"\"\"\n",
    "        # Dữ liệu để insert, kết hợp với line và year\n",
    "        data_to_insert = tuple(list(row[:14]) + [line, year,loaidoanhthu])\n",
    "        \n",
    "        # Thực thi câu lệnh SQL\n",
    "        cursor.execute(sql, data_to_insert)\n",
    "    \n",
    "    # Commit các thay đổi vào cơ sở dữ liệu\n",
    "    conn.commit()\n",
    "    return True"
   ]
  },
  {
   "cell_type": "code",
   "execution_count": null,
   "metadata": {},
   "outputs": [
    {
     "name": "stdout",
     "output_type": "stream",
     "text": [
      "Insert dữ liệu vào bảng kehoach thành công\n"
     ]
    }
   ],
   "source": [
    "year =2024\n",
    "line_insert =\"Line Cq Nhà Nước, Cơ Quan Hcsn\"\n",
    "loaidoanhthu = \"Phát triển mới\"\n",
    "status_insert = insertData_kehoach_to_database(line_insert, year, subset_df, conn, cursor)\n",
    "if status_insert == True:\n",
    "    print(\"Insert dữ liệu vào bảng kehoach thành công\")\n",
    "else:\n",
    "    print(\"Insert dữ liệu vào bảng kehoach thất bại\")"
   ]
  },
  {
   "cell_type": "markdown",
   "metadata": {},
   "source": [
    "#### 1.2 Part cho thực hiện"
   ]
  },
  {
   "cell_type": "code",
   "execution_count": 5,
   "metadata": {},
   "outputs": [],
   "source": [
    "def group_data_for_insert_thuchien(data):\n",
    "    grouped_data = data.groupby(['MA_NV', 'NHOM DV']).agg({'DOANH THU': 'sum'}).reset_index()\n",
    "    return grouped_data"
   ]
  },
  {
   "cell_type": "code",
   "execution_count": 36,
   "metadata": {},
   "outputs": [],
   "source": [
    "df_thuchien = pd.read_excel('../data/input_thuchien.xlsx')"
   ]
  },
  {
   "cell_type": "code",
   "execution_count": 37,
   "metadata": {},
   "outputs": [
    {
     "name": "stdout",
     "output_type": "stream",
     "text": [
      "        MA_NV                NHOM DV     DOANH THU\n",
      "0   CTV080832              Băng rộng  6.838078e+07\n",
      "1   CTV080832         Chính quyền số  2.617000e+06\n",
      "2   CTV080832                Cố định  2.561463e+07\n",
      "3   CTV080832        Di động trả sau  3.429502e+07\n",
      "4   CTV080832      Dịch vụ GTGT khác  1.429793e+06\n",
      "5   CTV080832         Gói GD,VP,Home  4.990293e+06\n",
      "6   CTV080832           Hạ tầng CNTT  8.442430e+05\n",
      "7   CTV080832     Internet trực tiếp  2.729082e+07\n",
      "8   CTV080832                   MyTV  3.406270e+05\n",
      "9   CTV080832  Quản trị doanh nghiệp  1.045708e+07\n",
      "10  CTV082537              Băng rộng  7.340861e+07\n",
      "11  CTV082537         Chính quyền số  3.617000e+06\n",
      "12  CTV082537                Cố định  1.679196e+07\n",
      "13  CTV082537        Di động trả sau  3.383942e+07\n",
      "14  CTV082537      Dịch vụ GTGT khác  2.181550e+05\n",
      "15  CTV082537       Dịch vụ tiện ích  1.260000e+05\n",
      "16  CTV082537         Gói GD,VP,Home  4.015062e+06\n",
      "17  CTV082537           Hạ tầng CNTT  8.733330e+05\n",
      "18  CTV082537                   MyTV  1.604640e+05\n",
      "19  CTV082537  Quản trị doanh nghiệp  1.146377e+07\n",
      "20  CTV082537         Truyền số liệu  2.904000e+06\n"
     ]
    }
   ],
   "source": [
    "grouped_thuchien = group_data_for_insert_thuchien(df_thuchien)\n",
    "print(grouped_thuchien)"
   ]
  },
  {
   "cell_type": "code",
   "execution_count": 32,
   "metadata": {},
   "outputs": [],
   "source": [
    "def insert_data_to_thuchien(thang, nam,loaidoanhthu,line, group_data,conn, cursor):\n",
    "    \n",
    "    # Lặp qua từng hàng trong DataFrame\n",
    "    for index, row in group_data.iterrows():\n",
    "        # Câu lệnh SQL để insert dữ liệu\n",
    "        sql = \"\"\"INSERT INTO thuchien\n",
    "                (IDnhanvien, nhom_dv, doanhthu,line, thang, year_insert,loaidoanhthu)\n",
    "                VALUES (%s, %s, %s, %s, %s, %s, %s)\"\"\"\n",
    "        # Dữ liệu để insert, kết hợp với thang và nam\n",
    "        data_to_insert = (row.iloc[0], row.iloc[1], row.iloc[2],line, thang, nam,loaidoanhthu)\n",
    "        \n",
    "        # Thực thi câu lệnh SQL\n",
    "        cursor.execute(sql, data_to_insert)\n",
    "\n",
    "    conn.commit()\n",
    "    return True"
   ]
  },
  {
   "cell_type": "code",
   "execution_count": 39,
   "metadata": {},
   "outputs": [
    {
     "name": "stdout",
     "output_type": "stream",
     "text": [
      "Insert dữ liệu vào bảng thuchien thành công\n"
     ]
    }
   ],
   "source": [
    "line_insert_thuchien =\"Line Cq Nhà Nước, Cơ Quan Hcsn\"\n",
    "year_insert_thuchien = 2024\n",
    "thang = 5\n",
    "loaidoanhthu = \"Hiện hữu\"\n",
    "status_insert_thuchien = insert_data_to_thuchien(thang, year_insert_thuchien,loaidoanhthu,line_insert_thuchien, grouped_thuchien, conn, cursor)\n",
    "if status_insert_thuchien == True:\n",
    "    print(\"Insert dữ liệu vào bảng thuchien thành công\")\n",
    "else:\n",
    "    print(\"Insert dữ liệu vào bảng thuchien thất bại\")"
   ]
  },
  {
   "cell_type": "markdown",
   "metadata": {},
   "source": [
    "### 2. VIEW DATA"
   ]
  },
  {
   "cell_type": "markdown",
   "metadata": {},
   "source": [
    "#### 2.1 Part cho Kế hoạch"
   ]
  },
  {
   "cell_type": "code",
   "execution_count": 5,
   "metadata": {},
   "outputs": [],
   "source": [
    "def create_dataframe_public_test(nhom_dv_so_doanh_nghiep_id, nhom_dv_so_ca_nhan_id, nhom_dv_vien_thong_id, nhom_dv_so_doanh_nghiep_name, nhom_dv_so_ca_nhan_name, nhom_dv_vien_thong_name):\n",
    "\n",
    "    columns = [\"STT\", \"Dịch vụ\"] + [f\"Tháng {i:02d}\" for i in range(1, 13)] + [\"LK năm\"]\n",
    "\n",
    "    data = {\n",
    "        \"STT\": [\"A\", \"1\", \"1.1\", *nhom_dv_so_doanh_nghiep_id, \"1.2\",*nhom_dv_so_ca_nhan_id, \"2\", \"2.1\", *nhom_dv_vien_thong_id],\n",
    "        \"Dịch vụ\": [\"DOANH THU VTCNTT\", \"Công nghệ thông tin\", \"Dịch vụ số doanh nghiệp\",*nhom_dv_so_doanh_nghiep_name ,\"Dịch vụ số cá nhân\", *nhom_dv_so_ca_nhan_name , \"Dịch vụ Viễn thông\", \"Dịch vụ di động (5917)\", *nhom_dv_vien_thong_name],\n",
    "    }\n",
    "\n",
    "    # Tạo DataFrame\n",
    "    kq_dataframe = pd.DataFrame(data, columns=columns)\n",
    "\n",
    "    return kq_dataframe"
   ]
  },
  {
   "cell_type": "code",
   "execution_count": 24,
   "metadata": {},
   "outputs": [],
   "source": [
    "df = create_dataframe_public_test(nhom_dv_so_doanh_nghiep_id, nhom_dv_so_ca_nhan_id, nhom_dv_vien_thong_id, nhom_dv_so_doanh_nghiep_name, nhom_dv_so_ca_nhan_name, nhom_dv_vien_thong_name)"
   ]
  },
  {
   "cell_type": "code",
   "execution_count": null,
   "metadata": {},
   "outputs": [],
   "source": [
    "df"
   ]
  },
  {
   "cell_type": "markdown",
   "metadata": {},
   "source": [
    "#### 2.2 PART CHO DASHBOARD"
   ]
  },
  {
   "cell_type": "code",
   "execution_count": 3,
   "metadata": {},
   "outputs": [],
   "source": [
    "def create_dataframe_public():\n",
    "        columns = [\"STT\", \"Dịch vụ\"] + [f\"Tháng {i:02d}\" for i in range(1, 13)] + [\"LK năm\"]\n",
    "\n",
    "        data = {\n",
    "            \"STT\": [\"A\", \"1\", \"1.1\", \"1.1.1\", \"1.1.2\", \"1.1.3\", \"1.1.4\", \"1.1.5\", \"1.1.6\", \"1.1.7\", \"1.1.8\", \"1.1.9\", \"1.2\", \"1.2.1\", \"1.2.2\", \"2\", \"2.1\", \"2.1.1\", \"2.1.2\", \"2.1.3\", \"2.2\", \"2.3\", \"2.4\", \"2.5\", \"2.6\", \"2.7\"],\n",
    "            \"Dịch vụ\": [\"DOANH THU VTCNTT\", \"Công nghệ thông tin\", \"Dịch vụ số doanh nghiệp\", \"Hạ tầng CNTT\", \"Chính quyền số\", \"Y tế số\", \"Công nghệ nền tảng\", \"An toàn thông tin\", \"Giáo dục số\", \"Quản trị doanh nghiệp\", \"Vận tải và Logictic\", \"Phân phối bán lẻ\", \"Dịch vụ số cá nhân\", \"MyTV\", \"Dịch vụ tiện ích\", \"Dịch vụ Viễn thông\", \"Dịch vụ di động (5917)\", \"Di động trả trước\", \"Di động trả sau\", \"Gói GD,VP,Home\", \"Băng rộng\", \"Cố định\", \"Internet trực tiếp\", \"Truyền số liệu\", \"Dịch vụ GTGT khác\", \"Cho thuê Hạ tầng\"],\n",
    "        }\n",
    "\n",
    "        # Tạo DataFrame\n",
    "        kq_dataframe = pd.DataFrame(data, columns=columns)\n",
    "\n",
    "        return kq_dataframe"
   ]
  },
  {
   "cell_type": "code",
   "execution_count": null,
   "metadata": {},
   "outputs": [],
   "source": [
    "kq_dataframe = create_dataframe_public()\n",
    "kq_dataframe"
   ]
  },
  {
   "cell_type": "code",
   "execution_count": 5,
   "metadata": {},
   "outputs": [],
   "source": [
    "def create_dataframe_thuchien_tt(thang):\n",
    "        ke_hoach_col = f\"KẾ HOẠCH T{thang:02d}\"\n",
    "        thuc_hien_col = f\"THỰC HIỆN T{thang:02d}\"\n",
    "        if thang == 1:\n",
    "            thuc_hien_col = \"THỰC HIỆN T1\"\n",
    "        columns = [\"STT\", \"Dịch vụ\", ke_hoach_col, thuc_hien_col, \"% THỰC HIỆN\", \"KỲ TRƯỚC\", \"% VỚI KỲ TRƯỚC\", \"+/- VỚI KỲ TRƯỚC\", \"THỰC HIỆN T01\", \"% THỰC HIỆN T01\", \"+ /- VỚI T01\"]\n",
    "\n",
    "        # Dữ liệu\n",
    "        data = {\n",
    "            \"STT\": [\"A\", \"1\", \"1.1\", \"1.1.1\", \"1.1.2\", \"1.1.3\", \"1.1.4\", \"1.1.5\", \"1.1.6\", \"1.1.7\", \"1.1.8\", \"1.1.9\", \"1.2\", \"1.2.1\", \"1.2.2\", \"2\", \"2.1\", \"2.1.1\", \"2.1.2\", \"2.1.3\", \"2.2\", \"2.3\", \"2.4\", \"2.5\", \"2.6\", \"2.7\"],\n",
    "            \"Dịch vụ\": [\"DOANH THU VTCNTT\", \"Công nghệ thông tin\", \"Dịch vụ số doanh nghiệp\", \"Hạ tầng CNTT\", \"Chính quyền số\", \"Y tế số\", \"Công nghệ nền tảng\", \"An toàn thông tin\", \"Giáo dục số\", \"Quản trị doanh nghiệp\", \"Vận tải và Logictic\", \"Phân phối bán lẻ\", \"Dịch vụ số cá nhân\", \"MyTV\", \"Dịch vụ tiện ích\", \"Dịch vụ Viễn thông\", \"Dịch vụ di động (5917)\", \"Di động trả trước\", \"Di động trả sau\", \"Gói GD,VP,Home\", \"Băng rộng\", \"Cố định\", \"Internet trực tiếp\", \"Truyền số liệu\", \"Dịch vụ GTGT khác\", \"Cho thuê Hạ tầng\"],\n",
    "        }\n",
    "\n",
    "        # Tạo DataFrame với các giá trị NaN cho các cột còn lại\n",
    "        # Sử dụng một dict comprehension để tạo ra các cột với giá trị NaN\n",
    "        for col in columns[2:]:\n",
    "            data[col] = [None] * len(data[\"STT\"])\n",
    "\n",
    "        # Tạo DataFrame\n",
    "        kq_thuchien = pd.DataFrame(data, columns=columns)\n",
    "        return kq_thuchien, ke_hoach_col, thuc_hien_col"
   ]
  },
  {
   "cell_type": "code",
   "execution_count": null,
   "metadata": {},
   "outputs": [],
   "source": [
    "df_th, kehoach,thuchien = create_dataframe_thuchien_tt(5)\n",
    "df_th"
   ]
  },
  {
   "cell_type": "code",
   "execution_count": 9,
   "metadata": {},
   "outputs": [
    {
     "name": "stdout",
     "output_type": "stream",
     "text": [
      "Kết nối đến cơ sở dữ liệu thành công.\n"
     ]
    }
   ],
   "source": [
    "conn,cursor = connect_to_mysql()"
   ]
  },
  {
   "cell_type": "code",
   "execution_count": 6,
   "metadata": {},
   "outputs": [],
   "source": [
    "def query_to_dataframe(query, conn):\n",
    "    cursor = conn.cursor(dictionary=True)  # Dùng dictionary=True để trả kết quả dạng dict\n",
    "    cursor.execute(query)\n",
    "    data = cursor.fetchall()  # Lấy toàn bộ dữ liệu\n",
    "    cursor.close()\n",
    "    return pd.DataFrame(data)"
   ]
  },
  {
   "cell_type": "code",
   "execution_count": 7,
   "metadata": {},
   "outputs": [],
   "source": [
    "def load_data(conn):\n",
    "    try:\n",
    "        thuchien = query_to_dataframe(\"SELECT * FROM thuchien\", conn)\n",
    "        kehoach = query_to_dataframe(\"SELECT * FROM kehoach\", conn)\n",
    "        nhanvien = query_to_dataframe(\"SELECT * FROM nhanvien\", conn)\n",
    "        dichvu = query_to_dataframe(\"SELECT * FROM dichvu\", conn)\n",
    "        for month in range(1, 13):\n",
    "            kehoach[f\"t{month}\"] = kehoach[f\"t{month}\"] * 1000000\n",
    "        return thuchien, kehoach, nhanvien, dichvu\n",
    "    finally:\n",
    "        conn.close()"
   ]
  },
  {
   "cell_type": "code",
   "execution_count": 10,
   "metadata": {},
   "outputs": [],
   "source": [
    "thuchien_after_load,kehoach_after_load,nhanvien_after_load, dichvu_after_load = load_data(conn)"
   ]
  },
  {
   "cell_type": "code",
   "execution_count": 17,
   "metadata": {},
   "outputs": [],
   "source": [
    "def filter_data_thuchien_by_employee(thuchien_after_load,ma_nv,month, year,line_nv,loaidoanhthu):\n",
    "    if month is not None:\n",
    "        thuchien_after_filter = thuchien_after_load[(thuchien_after_load[\"IDnhanvien\"] == ma_nv) & \n",
    "                                                    (thuchien_after_load[\"line\"] == line_nv) &\n",
    "                                                    (thuchien_after_load[\"thang\"] == month) &\n",
    "                                                    (thuchien_after_load[\"year_insert\"] == year) &\n",
    "                                                    (thuchien_after_load[\"loaidoanhthu\"] == loaidoanhthu)]\n",
    "        thuchien_after_filter = thuchien_after_filter[[\"nhom_dv\", \"doanhthu\"]]\n",
    "        thuchien_after_filter[\"nhom_dv\"] = thuchien_after_filter[\"nhom_dv\"].str.strip()\n",
    "    else:\n",
    "        thuchien_after_filter = thuchien_after_load[(thuchien_after_load[\"IDnhanvien\"] == ma_nv) & \n",
    "                                                    (thuchien_after_load[\"line\"] == line_nv) &\n",
    "                                                    (thuchien_after_load[\"year_insert\"] == year) &\n",
    "                                                    (thuchien_after_load[\"loaidoanhthu\"] == loaidoanhthu)]\n",
    "        thuchien_after_filter = thuchien_after_filter[[\"nhom_dv\", \"doanhthu\", \"thang\",\"year_insert\"]]\n",
    "        thuchien_after_filter[\"nhom_dv\"] = thuchien_after_filter[\"nhom_dv\"].str.strip()\n",
    "    return thuchien_after_filter"
   ]
  },
  {
   "cell_type": "code",
   "execution_count": 14,
   "metadata": {},
   "outputs": [],
   "source": [
    "ma_nv = \"CTV080832\"\n",
    "line_nv = \"Line Cq Nhà Nước, Cơ Quan Hcsn\"\n",
    "thang = 2\n",
    "loaidoanhthu = \"Phát triển mới\"\n",
    "year = 2024\n",
    "thuchien_after_filter = filter_data_thuchien_by_employee(thuchien_after_load,ma_nv,thang,year,line_nv,loaidoanhthu)\n"
   ]
  },
  {
   "cell_type": "code",
   "execution_count": 16,
   "metadata": {},
   "outputs": [],
   "source": [
    "ma_nv = \"CTV080832\"\n",
    "line_nv = \"Line Cq Nhà Nước, Cơ Quan Hcsn\"\n",
    "thang = 1\n",
    "loaidoanhthu = \"Phát triển mới\"\n",
    "year = 2024\n",
    "thuchien_after_filter_01 = filter_data_thuchien_by_employee(thuchien_after_load,ma_nv,thang,year,line_nv,loaidoanhthu)"
   ]
  },
  {
   "cell_type": "code",
   "execution_count": null,
   "metadata": {},
   "outputs": [],
   "source": [
    "thuchien_after_filter"
   ]
  },
  {
   "cell_type": "code",
   "execution_count": null,
   "metadata": {},
   "outputs": [],
   "source": [
    "def filter_kehoach_by_employee(kehoach_after_load, dichvu_after_load,selected_ma_nv,line_nv, selected_month,selected_year,selected_loaidoanhthu):\n",
    "    if selected_month is not None:\n",
    "        filtered_kehoach = kehoach_after_load[\n",
    "            (kehoach_after_load[\"ma_nv\"] == selected_ma_nv) &\n",
    "            (kehoach_after_load[\"year_insert\"] == int(selected_year)) &\n",
    "            (kehoach_after_load[\"line\"] == line_nv) &\n",
    "            (kehoach_after_load[\"loaidoanhthu\"] == selected_loaidoanhthu)\n",
    "        ].copy()\n",
    "        filtered_kehoach.loc[:, \"ten_dv\"] = filtered_kehoach[\"id_dv_606\"].map(dict(zip(dichvu_after_load[\"ma_dv_id66\"], dichvu_after_load[\"ten_dv\"])))\n",
    "        filtered_kehoach = filtered_kehoach[[\"ten_dv\",f\"t{selected_month}\"]]\n",
    "    else:\n",
    "        filtered_kehoach = kehoach_after_load[\n",
    "            (kehoach_after_load[\"ma_nv\"] == selected_ma_nv) &\n",
    "            (kehoach_after_load[\"year_insert\"] == int(selected_year)) &\n",
    "            (kehoach_after_load[\"line\"] == line_nv) &\n",
    "            (kehoach_after_load[\"loaidoanhthu\"] == selected_loaidoanhthu)\n",
    "        ].copy()\n",
    "        filtered_kehoach.loc[:, \"ten_dv\"] = filtered_kehoach[\"id_dv_606\"].map(dict(zip(dichvu_after_load[\"ma_dv_id66\"], dichvu_after_load[\"ten_dv\"])))\n",
    "        filtered_kehoach = filtered_kehoach[[\"ten_dv\", \"t1\", \"t2\", \"t3\", \"t4\", \"t5\", \"t6\", \"t7\", \"t8\", \"t9\", \"t10\", \"t11\", \"t12\"]]\n",
    "        filtered_kehoach.rename(columns={\"year_insert\": \"Năm\"}, inplace=True)\n",
    "    return filtered_kehoach"
   ]
  },
  {
   "cell_type": "code",
   "execution_count": 30,
   "metadata": {},
   "outputs": [],
   "source": [
    "ma_nv = \"CTV080832\"\n",
    "line_nv = \"Line Cq Nhà Nước, Cơ Quan Hcsn\"\n",
    "thang = 2\n",
    "loaidoanhthu = \"Phát triển mới\"\n",
    "year = 2024\n",
    "kehoach_after_filter = filter_kehoach_by_employee(kehoach_after_load,ma_nv,thang,year,loaidoanhthu)"
   ]
  },
  {
   "cell_type": "code",
   "execution_count": 36,
   "metadata": {},
   "outputs": [],
   "source": [
    "ma_nv = \"CTV080832\"\n",
    "line_nv = \"Line Cq Nhà Nước, Cơ Quan Hcsn\"\n",
    "thang = None\n",
    "loaidoanhthu = \"Phát triển mới\"\n",
    "year = 2024\n",
    "kehoach_after_filter_no_month = filter_kehoach_by_employee(kehoach_after_load, dichvu_after_load,ma_nv,thang,year,loaidoanhthu)"
   ]
  },
  {
   "cell_type": "code",
   "execution_count": null,
   "metadata": {},
   "outputs": [],
   "source": [
    "kehoach_after_filter_no_month"
   ]
  },
  {
   "cell_type": "code",
   "execution_count": null,
   "metadata": {},
   "outputs": [],
   "source": [
    "kehoach_after_filter"
   ]
  },
  {
   "cell_type": "code",
   "execution_count": 11,
   "metadata": {},
   "outputs": [],
   "source": [
    "def query_dichvu_from_database(dichvu_after_load):\n",
    "    # đoạn code select\n",
    "    ma_dv_66 = dichvu_after_load['ma_dv_id66'].tolist()\n",
    "    ten_dv_66 = dichvu_after_load['ten_dv'].tolist()\n",
    "    danh_muc_tt = dichvu_after_load['danh_muc_tt'].tolist()\n",
    "    # đoạn code tranform\n",
    "    df_dichvu = pd.DataFrame(list(zip(ma_dv_66, ten_dv_66, danh_muc_tt)), columns=['Mã dịch vụ', 'Tên dịch vụ', 'Danh mục TT'])\n",
    "    nhom_dv_so_doanh_nghiep = df_dichvu[df_dichvu['Danh mục TT'] == 'Dịch vụ số doanh nghiệp']\n",
    "    nhom_dv_so_ca_nhan = df_dichvu[df_dichvu['Danh mục TT'] == 'Dịch vụ số cá nhân']\n",
    "    nhom_dv_vien_thong = df_dichvu[df_dichvu['Danh mục TT'] == 'Dịch vụ Viễn thông']\n",
    "    nhom_dv_so_doanh_nghiep_id = list(nhom_dv_so_doanh_nghiep['Mã dịch vụ'])\n",
    "    nhom_dv_so_ca_nhan_id = list(nhom_dv_so_ca_nhan['Mã dịch vụ'])\n",
    "    nhom_dv_vien_thong_id = list(nhom_dv_vien_thong['Mã dịch vụ'])\n",
    "    nhom_dv_so_doanh_nghiep_name = list(nhom_dv_so_doanh_nghiep['Tên dịch vụ'])\n",
    "    nhom_dv_so_ca_nhan_name = list(nhom_dv_so_ca_nhan['Tên dịch vụ'])\n",
    "    nhom_dv_vien_thong_name = list(nhom_dv_vien_thong['Tên dịch vụ'])\n",
    "    return nhom_dv_so_doanh_nghiep_id, nhom_dv_so_ca_nhan_id, nhom_dv_vien_thong_id, nhom_dv_so_doanh_nghiep_name, nhom_dv_so_ca_nhan_name, nhom_dv_vien_thong_name"
   ]
  },
  {
   "cell_type": "code",
   "execution_count": 12,
   "metadata": {},
   "outputs": [],
   "source": [
    "nhom_dv_so_doanh_nghiep_id, nhom_dv_so_ca_nhan_id, nhom_dv_vien_thong_id, nhom_dv_so_doanh_nghiep_name, nhom_dv_so_ca_nhan_name, nhom_dv_vien_thong_name = query_dichvu_from_database(dichvu_after_load)"
   ]
  },
  {
   "cell_type": "code",
   "execution_count": null,
   "metadata": {},
   "outputs": [],
   "source": [
    "nhom_dv_so_doanh_nghiep_id"
   ]
  },
  {
   "cell_type": "code",
   "execution_count": 33,
   "metadata": {},
   "outputs": [],
   "source": [
    "def create_dataframe_thuchien_tt(thang,nhom_dv_so_doanh_nghiep_id, nhom_dv_so_ca_nhan_id, nhom_dv_vien_thong_id, nhom_dv_so_doanh_nghiep_name, nhom_dv_so_ca_nhan_name, nhom_dv_vien_thong_name):\n",
    "    ke_hoach_col = f\"KẾ HOẠCH T{thang:02d}\"\n",
    "    thuc_hien_col = f\"THỰC HIỆN T{thang:02d}\"\n",
    "    if thang == 1:\n",
    "        thuc_hien_col = \"THỰC HIỆN T1\"\n",
    "    columns = [\"STT\", \"Dịch vụ\", ke_hoach_col, thuc_hien_col, \"% THỰC HIỆN\", \"KỲ TRƯỚC\", \"% VỚI KỲ TRƯỚC\", \"+/- VỚI KỲ TRƯỚC\", \"THỰC HIỆN T01\", \"% THỰC HIỆN T01\", \"+ /- VỚI T01\"]\n",
    "\n",
    "    # Dữ liệu\n",
    "    data = {\n",
    "        \"STT\": [\"A\", \"1\", \"1.1\", *nhom_dv_so_doanh_nghiep_id, \"1.2\", *nhom_dv_so_ca_nhan_id, \"2\", \"2.1\", *nhom_dv_vien_thong_id],\n",
    "        \"Dịch vụ\": [\"DOANH THU VTCNTT\", \"Công nghệ thông tin\", \"Dịch vụ số doanh nghiệp\", *nhom_dv_so_doanh_nghiep_name, \"Dịch vụ số cá nhân\", *nhom_dv_so_ca_nhan_name, \"Dịch vụ Viễn thông\", \"Dịch vụ di động (5917)\", *nhom_dv_vien_thong_name],\n",
    "    }\n",
    "\n",
    "    for col in columns[2:]:\n",
    "        data[col] = [None] * len(data[\"STT\"])\n",
    "\n",
    "    # Tạo DataFrame\n",
    "    kq_thuchien = pd.DataFrame(data, columns=columns)\n",
    "    return kq_thuchien, ke_hoach_col, thuc_hien_col"
   ]
  },
  {
   "cell_type": "code",
   "execution_count": 58,
   "metadata": {},
   "outputs": [],
   "source": [
    "thang = 2\n",
    "df_new_create_form_1, kehoach_col_map, thuchien_col_map = create_dataframe_thuchien_tt(thang,nhom_dv_so_doanh_nghiep_id, nhom_dv_so_ca_nhan_id, nhom_dv_vien_thong_id, nhom_dv_so_doanh_nghiep_name, nhom_dv_so_ca_nhan_name, nhom_dv_vien_thong_name)"
   ]
  },
  {
   "cell_type": "code",
   "execution_count": null,
   "metadata": {},
   "outputs": [],
   "source": [
    "df_new_create_form_1"
   ]
  },
  {
   "cell_type": "code",
   "execution_count": 47,
   "metadata": {},
   "outputs": [],
   "source": [
    "def map_kehoach_to_thuchien_tt(kehoach_after_filter,df_new_create_form_1,ke_hoach_col, thang):\n",
    "        for index, row in kehoach_after_filter.iterrows():\n",
    "            service = row[\"ten_dv\"]\n",
    "\n",
    "            # Tìm vị trí của dịch vụ trong df_new_create_form_1\n",
    "            matching_rows = df_new_create_form_1[df_new_create_form_1[\"Dịch vụ\"] == service]\n",
    "\n",
    "            # Nếu có ít nhất một hàng khớp, ánh xạ dữ liệu\n",
    "            if not matching_rows.empty:\n",
    "                matching_index = matching_rows.index[0]\n",
    "                df_new_create_form_1.loc[matching_index, ke_hoach_col] = row[f\"t{thang}\"] / 1000000\n",
    "            else:\n",
    "                print(f\"Dịch vụ '{service}' không được tìm thấy trong DataFrame 'df_new_create_form_1'.\")\n",
    "        return df_new_create_form_1"
   ]
  },
  {
   "cell_type": "code",
   "execution_count": 60,
   "metadata": {},
   "outputs": [],
   "source": [
    "df_new_create_form_1 = map_kehoach_to_thuchien_tt(kehoach_after_filter,df_new_create_form_1,kehoach_col_map,thang)"
   ]
  },
  {
   "cell_type": "code",
   "execution_count": null,
   "metadata": {},
   "outputs": [],
   "source": [
    "df_new_create_form_1"
   ]
  },
  {
   "cell_type": "code",
   "execution_count": 62,
   "metadata": {},
   "outputs": [],
   "source": [
    "def map_thuchien_tt_for_form(column_data, kq_thuchien_tt, kq_thuchien):\n",
    "    for index, row in kq_thuchien_tt.iterrows():\n",
    "        service = row['nhom_dv']\n",
    "\n",
    "        # Tìm vị trí của dịch vụ trong kq_thuchien\n",
    "        matching_rows = kq_thuchien[kq_thuchien[\"Dịch vụ\"] == service]\n",
    "\n",
    "        # Nếu có ít nhất một hàng khớp, ánh xạ dữ liệu\n",
    "        if not matching_rows.empty:\n",
    "            matching_index = matching_rows.index[0]\n",
    "            # Cập nhật giá trị tương ứng trong cột\n",
    "            column_name = column_data.name\n",
    "            kq_thuchien.at[matching_index, column_name] = row.iloc[1] / 1000000\n",
    "        else:\n",
    "            print(f\"Dịch vụ '{service}' không được tìm thấy trong DataFrame 'kq_thuchien'.\")\n",
    "    \n",
    "    return kq_thuchien"
   ]
  },
  {
   "cell_type": "code",
   "execution_count": 63,
   "metadata": {},
   "outputs": [],
   "source": [
    "df_new_create_form_1 = map_thuchien_tt_for_form(df_new_create_form_1[thuchien_col_map],thuchien_after_filter,df_new_create_form_1)"
   ]
  },
  {
   "cell_type": "code",
   "execution_count": null,
   "metadata": {},
   "outputs": [],
   "source": [
    "df_new_create_form_1"
   ]
  },
  {
   "cell_type": "code",
   "execution_count": 65,
   "metadata": {},
   "outputs": [],
   "source": [
    "df_new_create_form_1 = map_thuchien_tt_for_form(df_new_create_form_1[\"THỰC HIỆN T01\"],thuchien_after_filter_01,df_new_create_form_1)"
   ]
  },
  {
   "cell_type": "code",
   "execution_count": 67,
   "metadata": {},
   "outputs": [],
   "source": [
    "df_new_create_form_1 = map_thuchien_tt_for_form(df_new_create_form_1[\"KỲ TRƯỚC\"],thuchien_after_filter_01,df_new_create_form_1)"
   ]
  },
  {
   "cell_type": "code",
   "execution_count": null,
   "metadata": {},
   "outputs": [],
   "source": [
    "df_new_create_form_1"
   ]
  },
  {
   "cell_type": "code",
   "execution_count": 25,
   "metadata": {},
   "outputs": [],
   "source": [
    "def update_summary_rows(df):\n",
    "    df['STT'] = df['STT'].astype(str)\n",
    "\n",
    "    columns_to_sum = df.columns[2:]\n",
    "\n",
    "    def get_child_rows(df, parent_stt):\n",
    "        return df[df['STT'].str.startswith(parent_stt + '.')]\n",
    "\n",
    "    for index, row in df.iterrows():\n",
    "        if pd.isna(row[columns_to_sum]).all() or (row[columns_to_sum] == 0).all():\n",
    "\n",
    "            child_rows = get_child_rows(df, row['STT'])\n",
    "\n",
    "            if not child_rows.empty:\n",
    "                df.loc[index, columns_to_sum] = child_rows[columns_to_sum].sum()\n",
    "\n",
    "    for index, row in df.iterrows():\n",
    "        if row['STT'] == 'A':\n",
    "            row_1 = df[df['STT'] == '1'].iloc[:, 2:].sum()\n",
    "            row_2 = df[df['STT'] == '2'].iloc[:, 2:].sum()\n",
    "\n",
    "            df.loc[index, columns_to_sum] = row_1 + row_2\n",
    "\n",
    "    return df"
   ]
  },
  {
   "cell_type": "code",
   "execution_count": 188,
   "metadata": {},
   "outputs": [],
   "source": [
    "def update_form_1_table(kq_dataframe, thuc_hien_col, ke_hoach_col):\n",
    "    \n",
    "    kq_dataframe = kq_dataframe.fillna(0).infer_objects(copy=False)\n",
    "    kq_dataframe['% THỰC HIỆN'] = np.where(kq_dataframe[ke_hoach_col] != 0,\n",
    "                                        kq_dataframe[thuc_hien_col] / kq_dataframe[ke_hoach_col] * 100,\n",
    "                                        0)\n",
    "\n",
    "\n",
    "    kq_dataframe['% VỚI KỲ TRƯỚC'] = np.where(kq_dataframe['KỲ TRƯỚC'] != 0,\n",
    "                                            kq_dataframe[thuc_hien_col] / kq_dataframe['KỲ TRƯỚC'] * 100,\n",
    "                                            0)\n",
    "    kq_dataframe['+/- VỚI KỲ TRƯỚC'] = kq_dataframe[thuc_hien_col] - kq_dataframe['KỲ TRƯỚC']\n",
    "\n",
    "    kq_dataframe['% THỰC HIỆN T01'] = np.where(kq_dataframe['THỰC HIỆN T01'] != 0,\n",
    "                                            kq_dataframe[thuc_hien_col] / kq_dataframe['THỰC HIỆN T01'] * 100,\n",
    "                                            0)\n",
    "\n",
    "    kq_dataframe['+ /- VỚI T01'] = kq_dataframe[thuc_hien_col] - kq_dataframe['THỰC HIỆN T01']\n",
    "\n",
    "\n",
    "    return kq_dataframe"
   ]
  },
  {
   "cell_type": "code",
   "execution_count": null,
   "metadata": {},
   "outputs": [],
   "source": [
    "df_new_create_form_1 = update_summary_rows(df_new_create_form_1)\n",
    "df_new_create_form_1 = update_form_1_table(df_new_create_form_1,thuchien_col_map, kehoach_col_map)"
   ]
  },
  {
   "cell_type": "code",
   "execution_count": null,
   "metadata": {},
   "outputs": [],
   "source": [
    "df_new_create_form_1"
   ]
  },
  {
   "cell_type": "markdown",
   "metadata": {},
   "source": [
    "#### FORM 2"
   ]
  },
  {
   "cell_type": "code",
   "execution_count": 49,
   "metadata": {},
   "outputs": [],
   "source": [
    "ma_nv = \"CTV080832\"\n",
    "line_nv = \"Line Cq Nhà Nước, Cơ Quan Hcsn\"\n",
    "thang = None\n",
    "loaidoanhthu = \"Phát triển mới\"\n",
    "year = 2024\n",
    "thuchien_after_filter = filter_data_thuchien_by_employee(thuchien_after_load,ma_nv,thang,year,line_nv,loaidoanhthu)"
   ]
  },
  {
   "cell_type": "code",
   "execution_count": null,
   "metadata": {},
   "outputs": [],
   "source": [
    "thuchien_after_filter"
   ]
  },
  {
   "cell_type": "code",
   "execution_count": 79,
   "metadata": {},
   "outputs": [],
   "source": [
    "def create_dataframe_form_2(nhom_dv_so_doanh_nghiep_id, nhom_dv_so_ca_nhan_id, nhom_dv_vien_thong_id, nhom_dv_so_doanh_nghiep_name, nhom_dv_so_ca_nhan_name, nhom_dv_vien_thong_name):\n",
    "    columns = [\"STT\", \"Dịch vụ\"] + [f\"Tháng {i:02d}\" for i in range(1, 13)]\n",
    "\n",
    "    data = {\n",
    "        \"STT\": [\"A\", \"1\", \"1.1\",*nhom_dv_so_doanh_nghiep_id, \"1.2\", *nhom_dv_so_ca_nhan_id, \"2\", \"2.1\", *nhom_dv_vien_thong_id],\n",
    "        \"Dịch vụ\": [\"DOANH THU VTCNTT\", \"Công nghệ thông tin\", \"Dịch vụ số doanh nghiệp\",*nhom_dv_so_doanh_nghiep_name, \"Dịch vụ số cá nhân\", *nhom_dv_so_ca_nhan_name, \"Dịch vụ Viễn thông\", \"Dịch vụ di động (5917)\", *nhom_dv_vien_thong_name],\n",
    "    }\n",
    "\n",
    "    # Tạo DataFrame\n",
    "    kq_dataframe = pd.DataFrame(data, columns=columns)\n",
    "\n",
    "    return kq_dataframe"
   ]
  },
  {
   "cell_type": "code",
   "execution_count": 14,
   "metadata": {},
   "outputs": [],
   "source": [
    "df_new_create_form_2 = create_dataframe_form_2(nhom_dv_so_doanh_nghiep_id, nhom_dv_so_ca_nhan_id, nhom_dv_vien_thong_id, nhom_dv_so_doanh_nghiep_name, nhom_dv_so_ca_nhan_name, nhom_dv_vien_thong_name)"
   ]
  },
  {
   "cell_type": "code",
   "execution_count": null,
   "metadata": {},
   "outputs": [],
   "source": [
    "df_new_create_form_2"
   ]
  },
  {
   "cell_type": "code",
   "execution_count": 20,
   "metadata": {},
   "outputs": [],
   "source": [
    "def map_thuchien_to_form_2(kq_thuchien, kq_dataframe):\n",
    "    for index, row in kq_thuchien.iterrows():\n",
    "        service = row['nhom_dv']\n",
    "        month = row['thang']\n",
    "        revenue = row['doanhthu']\n",
    "\n",
    "        matching_rows = kq_dataframe[kq_dataframe[\"Dịch vụ\"] == service]\n",
    "\n",
    "        if not matching_rows.empty:\n",
    "            matching_index = matching_rows.index[0]\n",
    "            kq_dataframe.at[matching_index, f\"Tháng {int(month):02d}\"] = revenue/1000000\n",
    "        else:\n",
    "            print(f\"Dịch vụ '{service}' không được tìm thấy trong DataFrame 'kq_dataframe'.\")\n",
    "    \n",
    "    return kq_dataframe"
   ]
  },
  {
   "cell_type": "code",
   "execution_count": 22,
   "metadata": {},
   "outputs": [],
   "source": [
    "df_new_create_form_2 = map_thuchien_to_form_2(thuchien_after_filter, df_new_create_form_2)"
   ]
  },
  {
   "cell_type": "code",
   "execution_count": null,
   "metadata": {},
   "outputs": [],
   "source": [
    "df_new_create_form_2"
   ]
  },
  {
   "cell_type": "code",
   "execution_count": 26,
   "metadata": {},
   "outputs": [],
   "source": [
    "df_new_create_form_2 = update_summary_rows(df_new_create_form_2)"
   ]
  },
  {
   "cell_type": "code",
   "execution_count": null,
   "metadata": {},
   "outputs": [],
   "source": [
    "df_new_create_form_2"
   ]
  },
  {
   "cell_type": "markdown",
   "metadata": {},
   "source": [
    "#### FORM 3"
   ]
  },
  {
   "cell_type": "code",
   "execution_count": 88,
   "metadata": {},
   "outputs": [],
   "source": [
    "ma_nv = \"CTV080832\"\n",
    "line_nv = \"Line Cq Nhà Nước, Cơ Quan Hcsn\"\n",
    "thang = None\n",
    "loaidoanhthu = \"Phát triển mới\"\n",
    "year = 2024\n",
    "kehoach_after_filter_no_month = filter_kehoach_by_employee(kehoach_after_load, dichvu_after_load,ma_nv,thang,year,loaidoanhthu)"
   ]
  },
  {
   "cell_type": "code",
   "execution_count": null,
   "metadata": {},
   "outputs": [],
   "source": [
    "kehoach_after_filter_no_month"
   ]
  },
  {
   "cell_type": "code",
   "execution_count": 89,
   "metadata": {},
   "outputs": [],
   "source": [
    "form_3_kehoach = create_dataframe_form_2(nhom_dv_so_doanh_nghiep_id, nhom_dv_so_ca_nhan_id, nhom_dv_vien_thong_id, nhom_dv_so_doanh_nghiep_name, nhom_dv_so_ca_nhan_name, nhom_dv_vien_thong_name)"
   ]
  },
  {
   "cell_type": "code",
   "execution_count": null,
   "metadata": {},
   "outputs": [],
   "source": [
    "form_3_kehoach"
   ]
  },
  {
   "cell_type": "code",
   "execution_count": 90,
   "metadata": {},
   "outputs": [],
   "source": [
    "def map_kehoach_to_form_2(kq_kehoach, kq_dataframe):\n",
    "        for index, row in kq_kehoach.iterrows():\n",
    "            service = row[\"ten_dv\"]\n",
    "\n",
    " \n",
    "            matching_rows = kq_dataframe[kq_dataframe[\"Dịch vụ\"] == service]\n",
    "\n",
    "            if not matching_rows.empty:\n",
    "                matching_index = matching_rows.index[0]\n",
    "                kq_dataframe.iloc[matching_index, 2:] = row[1:].values / 1000000\n",
    "            else:\n",
    "                print(f\"Dịch vụ '{service}' không được tìm thấy trong DataFrame 'kq_dataframe'.\")\n",
    "\n",
    "        return kq_dataframe"
   ]
  },
  {
   "cell_type": "code",
   "execution_count": 91,
   "metadata": {},
   "outputs": [],
   "source": [
    "kehoach_after_filter_no_month = map_kehoach_to_form_2(kehoach_after_filter_no_month, form_3_kehoach)"
   ]
  },
  {
   "cell_type": "code",
   "execution_count": 92,
   "metadata": {},
   "outputs": [],
   "source": [
    "kehoach_after_filter_no_month = update_summary_rows(kehoach_after_filter_no_month)"
   ]
  },
  {
   "cell_type": "code",
   "execution_count": null,
   "metadata": {},
   "outputs": [],
   "source": [
    "kehoach_after_filter_no_month"
   ]
  },
  {
   "cell_type": "markdown",
   "metadata": {},
   "source": [
    "#### SERVICES"
   ]
  },
  {
   "cell_type": "code",
   "execution_count": 100,
   "metadata": {},
   "outputs": [],
   "source": [
    "def filter_kehoach_by_service(kehoach_after_load,nhanvien_after_load,line_nv, selected_service,selected_month,year_insert,loaidoanhthu):\n",
    "    if selected_month is not None:\n",
    "        filtered_kehoach = kehoach_after_load[\n",
    "            (kehoach_after_load[\"id_dv_606\"] == selected_service) &\n",
    "            (kehoach_after_load[\"year_insert\"] == year_insert) &\n",
    "            (kehoach_after_load[\"line\"] == line_nv) &\n",
    "            (kehoach_after_load[\"loaidoanhthu\"] == loaidoanhthu)\n",
    "        ].copy()\n",
    "        filtered_kehoach.loc[:, \"ten_nv\"] = filtered_kehoach[\"ma_nv\"].map(dict(zip(nhanvien_after_load[\"ma_nv\"], nhanvien_after_load[\"ten_nv\"])))\n",
    "        filtered_kehoach = filtered_kehoach[[\"ma_nv\",\"ten_nv\",f\"t{selected_month}\"]]\n",
    "    else:\n",
    "        filtered_kehoach = kehoach_after_load[\n",
    "            (kehoach_after_load[\"id_dv_606\"] == selected_service) &\n",
    "            (kehoach_after_load[\"year_insert\"] == year_insert) &\n",
    "            (kehoach_after_load[\"line\"] == line_nv) &\n",
    "            (kehoach_after_load[\"loaidoanhthu\"] == loaidoanhthu)\n",
    "        ].copy()\n",
    "        filtered_kehoach.loc[:, \"ten_nv\"] = filtered_kehoach[\"ma_nv\"].map(dict(zip(nhanvien_after_load[\"ma_nv\"], nhanvien_after_load[\"ten_nv\"])))\n",
    "        filtered_kehoach = filtered_kehoach[[\"ma_nv\",\"ten_nv\", \"t1\", \"t2\", \"t3\", \"t4\", \"t5\", \"t6\", \"t7\", \"t8\", \"t9\", \"t10\", \"t11\", \"t12\"]]\n",
    "        filtered_kehoach.rename(columns={\"year_insert\": \"Năm\"}, inplace=True)\n",
    "    return filtered_kehoach\n",
    "   "
   ]
  },
  {
   "cell_type": "code",
   "execution_count": 101,
   "metadata": {},
   "outputs": [],
   "source": [
    "ma_dv = \"1.1.01\"\n",
    "line_nv = \"Line Cq Nhà Nước, Cơ Quan Hcsn\"\n",
    "thang = None\n",
    "loaidoanhthu = \"Phát triển mới\"\n",
    "year = 2024\n",
    "kehoach_after_filter_no_month = filter_kehoach_by_service(kehoach_after_load,nhanvien_after_load,line_nv,ma_dv,thang,year,loaidoanhthu)"
   ]
  },
  {
   "cell_type": "code",
   "execution_count": 154,
   "metadata": {},
   "outputs": [],
   "source": [
    "ma_dv = \"2.2\"\n",
    "line_nv = \"Line Cq Nhà Nước, Cơ Quan Hcsn\"\n",
    "thang = 2\n",
    "loaidoanhthu = \"Phát triển mới\"\n",
    "year = 2024\n",
    "kehoach_after_filter = filter_kehoach_by_service(kehoach_after_load,nhanvien_after_load,line_nv,ma_dv,thang,year,loaidoanhthu)"
   ]
  },
  {
   "cell_type": "code",
   "execution_count": 155,
   "metadata": {},
   "outputs": [
    {
     "data": {
      "text/html": [
       "<div>\n",
       "<style scoped>\n",
       "    .dataframe tbody tr th:only-of-type {\n",
       "        vertical-align: middle;\n",
       "    }\n",
       "\n",
       "    .dataframe tbody tr th {\n",
       "        vertical-align: top;\n",
       "    }\n",
       "\n",
       "    .dataframe thead th {\n",
       "        text-align: right;\n",
       "    }\n",
       "</style>\n",
       "<table border=\"1\" class=\"dataframe\">\n",
       "  <thead>\n",
       "    <tr style=\"text-align: right;\">\n",
       "      <th></th>\n",
       "      <th>ma_nv</th>\n",
       "      <th>ten_nv</th>\n",
       "      <th>t2</th>\n",
       "    </tr>\n",
       "  </thead>\n",
       "  <tbody>\n",
       "    <tr>\n",
       "      <th>51</th>\n",
       "      <td>CTV080832</td>\n",
       "      <td>Trần Thanh Liêm</td>\n",
       "      <td>3760000.0</td>\n",
       "    </tr>\n",
       "    <tr>\n",
       "      <th>70</th>\n",
       "      <td>CTV082537</td>\n",
       "      <td>Nguyễn Thị Hồng Hạnh</td>\n",
       "      <td>0.0</td>\n",
       "    </tr>\n",
       "  </tbody>\n",
       "</table>\n",
       "</div>"
      ],
      "text/plain": [
       "        ma_nv                ten_nv         t2\n",
       "51  CTV080832       Trần Thanh Liêm  3760000.0\n",
       "70  CTV082537  Nguyễn Thị Hồng Hạnh        0.0"
      ]
     },
     "execution_count": 155,
     "metadata": {},
     "output_type": "execute_result"
    }
   ],
   "source": [
    "kehoach_after_filter"
   ]
  },
  {
   "cell_type": "code",
   "execution_count": null,
   "metadata": {},
   "outputs": [],
   "source": [
    "def filter_thuchien_by_service(thuchien_after_load,ten_dv,month, year,line_nv,loaidoanhthu):\n",
    "    if month is not None:\n",
    "        thuchien_after_filter = thuchien_after_load[(thuchien_after_load[\"nhom_dv\"] == ten_dv) & \n",
    "                                                    (thuchien_after_load[\"line\"] == line_nv) &\n",
    "                                                    (thuchien_after_load[\"thang\"] == month) &\n",
    "                                                    (thuchien_after_load[\"year_insert\"] == year) &\n",
    "                                                    (thuchien_after_load[\"loaidoanhthu\"] == loaidoanhthu)]\n",
    "        thuchien_after_filter = thuchien_after_filter[[\"IDnhanvien\", \"doanhthu\"]]\n",
    "        thuchien_after_filter[\"IDnhanvien\"] = thuchien_after_filter[\"IDnhanvien\"].str.strip()\n",
    "    else:\n",
    "        thuchien_after_filter = thuchien_after_load[(thuchien_after_load[\"nhom_dv\"] == ten_dv) & \n",
    "                                                    (thuchien_after_load[\"line\"] == line_nv) &\n",
    "                                                    (thuchien_after_load[\"year_insert\"] == year) &\n",
    "                                                    (thuchien_after_load[\"loaidoanhthu\"] == loaidoanhthu)]\n",
    "        thuchien_after_filter = thuchien_after_filter[[\"IDnhanvien\", \"doanhthu\", \"thang\",\"year_insert\"]]\n",
    "        thuchien_after_filter[\"IDnhanvien\"] = thuchien_after_filter[\"IDnhanvien\"].str.strip()\n",
    "    return thuchien_after_filter"
   ]
  },
  {
   "cell_type": "code",
   "execution_count": 152,
   "metadata": {},
   "outputs": [],
   "source": [
    "ten_dv = \"Băng rộng\"\n",
    "line_nv = \"Line Cq Nhà Nước, Cơ Quan Hcsn\"\n",
    "thang = 2\n",
    "loaidoanhthu = \"Phát triển mới\"\n",
    "year = 2024\n",
    "thuchien_after_filter = filter_thuchien_by_service(thuchien_after_load,ten_dv,thang,year,line_nv,loaidoanhthu)"
   ]
  },
  {
   "cell_type": "code",
   "execution_count": 153,
   "metadata": {},
   "outputs": [
    {
     "data": {
      "text/html": [
       "<div>\n",
       "<style scoped>\n",
       "    .dataframe tbody tr th:only-of-type {\n",
       "        vertical-align: middle;\n",
       "    }\n",
       "\n",
       "    .dataframe tbody tr th {\n",
       "        vertical-align: top;\n",
       "    }\n",
       "\n",
       "    .dataframe thead th {\n",
       "        text-align: right;\n",
       "    }\n",
       "</style>\n",
       "<table border=\"1\" class=\"dataframe\">\n",
       "  <thead>\n",
       "    <tr style=\"text-align: right;\">\n",
       "      <th></th>\n",
       "      <th>IDnhanvien</th>\n",
       "      <th>doanhthu</th>\n",
       "    </tr>\n",
       "  </thead>\n",
       "  <tbody>\n",
       "    <tr>\n",
       "      <th>21</th>\n",
       "      <td>CTV080832</td>\n",
       "      <td>66812800.0</td>\n",
       "    </tr>\n",
       "    <tr>\n",
       "      <th>31</th>\n",
       "      <td>CTV082537</td>\n",
       "      <td>71728600.0</td>\n",
       "    </tr>\n",
       "  </tbody>\n",
       "</table>\n",
       "</div>"
      ],
      "text/plain": [
       "   IDnhanvien    doanhthu\n",
       "21  CTV080832  66812800.0\n",
       "31  CTV082537  71728600.0"
      ]
     },
     "execution_count": 153,
     "metadata": {},
     "output_type": "execute_result"
    }
   ],
   "source": [
    "thuchien_after_filter"
   ]
  },
  {
   "cell_type": "code",
   "execution_count": 159,
   "metadata": {},
   "outputs": [],
   "source": [
    "ten_dv = \"Băng rộng\"\n",
    "line_nv = \"Line Cq Nhà Nước, Cơ Quan Hcsn\"\n",
    "thang = 1\n",
    "loaidoanhthu = \"Phát triển mới\"\n",
    "year = 2024\n",
    "thuchien_after_filter_01 = filter_thuchien_by_service(thuchien_after_load,ten_dv,thang,year,line_nv,loaidoanhthu)"
   ]
  },
  {
   "cell_type": "code",
   "execution_count": 160,
   "metadata": {},
   "outputs": [
    {
     "data": {
      "text/html": [
       "<div>\n",
       "<style scoped>\n",
       "    .dataframe tbody tr th:only-of-type {\n",
       "        vertical-align: middle;\n",
       "    }\n",
       "\n",
       "    .dataframe tbody tr th {\n",
       "        vertical-align: top;\n",
       "    }\n",
       "\n",
       "    .dataframe thead th {\n",
       "        text-align: right;\n",
       "    }\n",
       "</style>\n",
       "<table border=\"1\" class=\"dataframe\">\n",
       "  <thead>\n",
       "    <tr style=\"text-align: right;\">\n",
       "      <th></th>\n",
       "      <th>IDnhanvien</th>\n",
       "      <th>doanhthu</th>\n",
       "    </tr>\n",
       "  </thead>\n",
       "  <tbody>\n",
       "    <tr>\n",
       "      <th>0</th>\n",
       "      <td>CTV080832</td>\n",
       "      <td>66714800.0</td>\n",
       "    </tr>\n",
       "    <tr>\n",
       "      <th>10</th>\n",
       "      <td>CTV082537</td>\n",
       "      <td>71623600.0</td>\n",
       "    </tr>\n",
       "  </tbody>\n",
       "</table>\n",
       "</div>"
      ],
      "text/plain": [
       "   IDnhanvien    doanhthu\n",
       "0   CTV080832  66714800.0\n",
       "10  CTV082537  71623600.0"
      ]
     },
     "execution_count": 160,
     "metadata": {},
     "output_type": "execute_result"
    }
   ],
   "source": [
    "thuchien_after_filter_01"
   ]
  },
  {
   "cell_type": "code",
   "execution_count": 110,
   "metadata": {},
   "outputs": [],
   "source": [
    "def create_dataframe_form_4(nhanvien_after_load):\n",
    "    columns = [\"STT\", \"Nhân viên\"] + [f\"Tháng {i:02d}\" for i in range(1, 13)]\n",
    "\n",
    "    data = {\n",
    "        \"STT\": [\"A\", *nhanvien_after_load[\"ma_nv\"].tolist()],\n",
    "        \"Nhân viên\": [\"Tổng cộng\"] + nhanvien_after_load[\"ten_nv\"].tolist(),\n",
    "    }\n",
    "\n",
    "    for col in columns[2:]:\n",
    "        data[col] = [None] * len(data[\"STT\"])\n",
    "\n",
    "    # Tạo DataFrame\n",
    "    kq_dataframe = pd.DataFrame(data, columns=columns)\n",
    "\n",
    "    return kq_dataframe"
   ]
  },
  {
   "cell_type": "code",
   "execution_count": 112,
   "metadata": {},
   "outputs": [],
   "source": [
    "data_frame_4 = create_dataframe_form_4(nhanvien_after_load)"
   ]
  },
  {
   "cell_type": "code",
   "execution_count": 122,
   "metadata": {},
   "outputs": [],
   "source": [
    "def create_thuchien_service_dataframe_form_1(thang,nhanvien_after_load):\n",
    "    kehoach_col = f\"KẾ HOẠCH T{thang:02d}\"\n",
    "    thuchien_col = f\"THỰC HIỆN T{thang:02d}\"\n",
    "    if thang == 1:\n",
    "        thuchien_col = \"THỰC HIỆN T1\"\n",
    "    columns = [\"MA-NV\", \"Nhân viên\", kehoach_col, thuchien_col, \"% THỰC HIỆN\", \"KỲ TRƯỚC\", \"% VỚI KỲ TRƯỚC\", \"+/- VỚI KỲ TRƯỚC\", \"THỰC HIỆN T01\", \"% THỰC HIỆN T01\", \"+ /- VỚI T01\"]\n",
    "    \n",
    "    data = {\n",
    "        \"MA-NV\": [\"A\", *nhanvien_after_load[\"ma_nv\"].tolist()],\n",
    "        \"Nhân viên\": [\"Tổng cộng\"] + nhanvien_after_load[\"ten_nv\"].tolist(),\n",
    "    }\n",
    "    for col in columns[2:]:\n",
    "        data[col] = [None] * len(data[\"MA-NV\"])\n",
    "    kq_thuchien = pd.DataFrame(data, columns=columns)\n",
    "    return kq_thuchien, kehoach_col, thuchien_col"
   ]
  },
  {
   "cell_type": "code",
   "execution_count": 156,
   "metadata": {},
   "outputs": [],
   "source": [
    "thang = 2\n",
    "df_create_service_form_1, kehoach_col_map, thuchien_col_map = create_thuchien_service_dataframe_form_1(thang,nhanvien_after_load)"
   ]
  },
  {
   "cell_type": "code",
   "execution_count": 147,
   "metadata": {},
   "outputs": [
    {
     "data": {
      "text/html": [
       "<div>\n",
       "<style scoped>\n",
       "    .dataframe tbody tr th:only-of-type {\n",
       "        vertical-align: middle;\n",
       "    }\n",
       "\n",
       "    .dataframe tbody tr th {\n",
       "        vertical-align: top;\n",
       "    }\n",
       "\n",
       "    .dataframe thead th {\n",
       "        text-align: right;\n",
       "    }\n",
       "</style>\n",
       "<table border=\"1\" class=\"dataframe\">\n",
       "  <thead>\n",
       "    <tr style=\"text-align: right;\">\n",
       "      <th></th>\n",
       "      <th>MA-NV</th>\n",
       "      <th>Nhân viên</th>\n",
       "      <th>KẾ HOẠCH T02</th>\n",
       "      <th>THỰC HIỆN T02</th>\n",
       "      <th>% THỰC HIỆN</th>\n",
       "      <th>KỲ TRƯỚC</th>\n",
       "      <th>% VỚI KỲ TRƯỚC</th>\n",
       "      <th>+/- VỚI KỲ TRƯỚC</th>\n",
       "      <th>THỰC HIỆN T01</th>\n",
       "      <th>% THỰC HIỆN T01</th>\n",
       "      <th>+ /- VỚI T01</th>\n",
       "    </tr>\n",
       "  </thead>\n",
       "  <tbody>\n",
       "    <tr>\n",
       "      <th>0</th>\n",
       "      <td>A</td>\n",
       "      <td>Tổng cộng</td>\n",
       "      <td>None</td>\n",
       "      <td>None</td>\n",
       "      <td>None</td>\n",
       "      <td>None</td>\n",
       "      <td>None</td>\n",
       "      <td>None</td>\n",
       "      <td>None</td>\n",
       "      <td>None</td>\n",
       "      <td>None</td>\n",
       "    </tr>\n",
       "    <tr>\n",
       "      <th>1</th>\n",
       "      <td>CTV080832</td>\n",
       "      <td>Trần Thanh Liêm</td>\n",
       "      <td>None</td>\n",
       "      <td>None</td>\n",
       "      <td>None</td>\n",
       "      <td>None</td>\n",
       "      <td>None</td>\n",
       "      <td>None</td>\n",
       "      <td>None</td>\n",
       "      <td>None</td>\n",
       "      <td>None</td>\n",
       "    </tr>\n",
       "    <tr>\n",
       "      <th>2</th>\n",
       "      <td>CTV082537</td>\n",
       "      <td>Nguyễn Thị Hồng Hạnh</td>\n",
       "      <td>None</td>\n",
       "      <td>None</td>\n",
       "      <td>None</td>\n",
       "      <td>None</td>\n",
       "      <td>None</td>\n",
       "      <td>None</td>\n",
       "      <td>None</td>\n",
       "      <td>None</td>\n",
       "      <td>None</td>\n",
       "    </tr>\n",
       "  </tbody>\n",
       "</table>\n",
       "</div>"
      ],
      "text/plain": [
       "       MA-NV             Nhân viên KẾ HOẠCH T02 THỰC HIỆN T02 % THỰC HIỆN  \\\n",
       "0          A             Tổng cộng         None          None        None   \n",
       "1  CTV080832       Trần Thanh Liêm         None          None        None   \n",
       "2  CTV082537  Nguyễn Thị Hồng Hạnh         None          None        None   \n",
       "\n",
       "  KỲ TRƯỚC % VỚI KỲ TRƯỚC +/- VỚI KỲ TRƯỚC THỰC HIỆN T01 % THỰC HIỆN T01  \\\n",
       "0     None           None             None          None            None   \n",
       "1     None           None             None          None            None   \n",
       "2     None           None             None          None            None   \n",
       "\n",
       "  + /- VỚI T01  \n",
       "0         None  \n",
       "1         None  \n",
       "2         None  "
      ]
     },
     "execution_count": 147,
     "metadata": {},
     "output_type": "execute_result"
    }
   ],
   "source": [
    "df_create_service_form_1"
   ]
  },
  {
   "cell_type": "code",
   "execution_count": 148,
   "metadata": {},
   "outputs": [],
   "source": [
    "def map_kehoach_to_thuchien_service(kehoach_after_filter,df_new_create_form_1,ke_hoach_col, thang):\n",
    "        for index, row in kehoach_after_filter.iterrows():\n",
    "            employee = row[\"ma_nv\"]\n",
    "\n",
    "            # Tìm vị trí của dịch vụ trong df_new_create_form_1\n",
    "            matching_rows = df_new_create_form_1[df_new_create_form_1[\"MA-NV\"] == employee]\n",
    "\n",
    "            # Nếu có ít nhất một hàng khớp, ánh xạ dữ liệu\n",
    "            if not matching_rows.empty:\n",
    "                matching_index = matching_rows.index[0]\n",
    "                df_new_create_form_1.loc[matching_index, ke_hoach_col] = row[f\"t{thang}\"] / 1000000\n",
    "            else:\n",
    "                print(f\"Nhan vien '{employee}' không được tìm thấy trong DataFrame 'df_new_create_form_1'.\")\n",
    "        return df_new_create_form_1"
   ]
  },
  {
   "cell_type": "code",
   "execution_count": 157,
   "metadata": {},
   "outputs": [],
   "source": [
    "df_create_service_form_1 = map_kehoach_to_thuchien_service(kehoach_after_filter,df_create_service_form_1,kehoach_col_map,thang)"
   ]
  },
  {
   "cell_type": "code",
   "execution_count": 158,
   "metadata": {},
   "outputs": [
    {
     "data": {
      "text/html": [
       "<div>\n",
       "<style scoped>\n",
       "    .dataframe tbody tr th:only-of-type {\n",
       "        vertical-align: middle;\n",
       "    }\n",
       "\n",
       "    .dataframe tbody tr th {\n",
       "        vertical-align: top;\n",
       "    }\n",
       "\n",
       "    .dataframe thead th {\n",
       "        text-align: right;\n",
       "    }\n",
       "</style>\n",
       "<table border=\"1\" class=\"dataframe\">\n",
       "  <thead>\n",
       "    <tr style=\"text-align: right;\">\n",
       "      <th></th>\n",
       "      <th>MA-NV</th>\n",
       "      <th>Nhân viên</th>\n",
       "      <th>KẾ HOẠCH T02</th>\n",
       "      <th>THỰC HIỆN T02</th>\n",
       "      <th>% THỰC HIỆN</th>\n",
       "      <th>KỲ TRƯỚC</th>\n",
       "      <th>% VỚI KỲ TRƯỚC</th>\n",
       "      <th>+/- VỚI KỲ TRƯỚC</th>\n",
       "      <th>THỰC HIỆN T01</th>\n",
       "      <th>% THỰC HIỆN T01</th>\n",
       "      <th>+ /- VỚI T01</th>\n",
       "    </tr>\n",
       "  </thead>\n",
       "  <tbody>\n",
       "    <tr>\n",
       "      <th>0</th>\n",
       "      <td>A</td>\n",
       "      <td>Tổng cộng</td>\n",
       "      <td>None</td>\n",
       "      <td>None</td>\n",
       "      <td>None</td>\n",
       "      <td>None</td>\n",
       "      <td>None</td>\n",
       "      <td>None</td>\n",
       "      <td>None</td>\n",
       "      <td>None</td>\n",
       "      <td>None</td>\n",
       "    </tr>\n",
       "    <tr>\n",
       "      <th>1</th>\n",
       "      <td>CTV080832</td>\n",
       "      <td>Trần Thanh Liêm</td>\n",
       "      <td>3.76</td>\n",
       "      <td>None</td>\n",
       "      <td>None</td>\n",
       "      <td>None</td>\n",
       "      <td>None</td>\n",
       "      <td>None</td>\n",
       "      <td>None</td>\n",
       "      <td>None</td>\n",
       "      <td>None</td>\n",
       "    </tr>\n",
       "    <tr>\n",
       "      <th>2</th>\n",
       "      <td>CTV082537</td>\n",
       "      <td>Nguyễn Thị Hồng Hạnh</td>\n",
       "      <td>0.0</td>\n",
       "      <td>None</td>\n",
       "      <td>None</td>\n",
       "      <td>None</td>\n",
       "      <td>None</td>\n",
       "      <td>None</td>\n",
       "      <td>None</td>\n",
       "      <td>None</td>\n",
       "      <td>None</td>\n",
       "    </tr>\n",
       "  </tbody>\n",
       "</table>\n",
       "</div>"
      ],
      "text/plain": [
       "       MA-NV             Nhân viên KẾ HOẠCH T02 THỰC HIỆN T02 % THỰC HIỆN  \\\n",
       "0          A             Tổng cộng         None          None        None   \n",
       "1  CTV080832       Trần Thanh Liêm         3.76          None        None   \n",
       "2  CTV082537  Nguyễn Thị Hồng Hạnh          0.0          None        None   \n",
       "\n",
       "  KỲ TRƯỚC % VỚI KỲ TRƯỚC +/- VỚI KỲ TRƯỚC THỰC HIỆN T01 % THỰC HIỆN T01  \\\n",
       "0     None           None             None          None            None   \n",
       "1     None           None             None          None            None   \n",
       "2     None           None             None          None            None   \n",
       "\n",
       "  + /- VỚI T01  \n",
       "0         None  \n",
       "1         None  \n",
       "2         None  "
      ]
     },
     "execution_count": 158,
     "metadata": {},
     "output_type": "execute_result"
    }
   ],
   "source": [
    "df_create_service_form_1"
   ]
  },
  {
   "cell_type": "code",
   "execution_count": 163,
   "metadata": {},
   "outputs": [],
   "source": [
    "def map_thuchien_service_for_form(column_data, kq_thuchien_tt, kq_thuchien):\n",
    "    for index, row in kq_thuchien_tt.iterrows():\n",
    "        employee = row['IDnhanvien']\n",
    "\n",
    "        # Tìm vị trí của dịch vụ trong kq_thuchien\n",
    "        matching_rows = kq_thuchien[kq_thuchien[\"MA-NV\"] == employee]\n",
    "\n",
    "        # Nếu có ít nhất một hàng khớp, ánh xạ dữ liệu\n",
    "        if not matching_rows.empty:\n",
    "            matching_index = matching_rows.index[0]\n",
    "            # Cập nhật giá trị tương ứng trong cột\n",
    "            column_name = column_data.name\n",
    "            kq_thuchien.at[matching_index, column_name] = row.iloc[1] / 1000000\n",
    "        else:\n",
    "            print(f\"Nhan vien '{employee}' không được tìm thấy trong DataFrame 'kq_thuchien'.\")\n",
    "    \n",
    "    return kq_thuchien"
   ]
  },
  {
   "cell_type": "code",
   "execution_count": 164,
   "metadata": {},
   "outputs": [],
   "source": [
    "df_create_service_form_1 = map_thuchien_service_for_form(df_create_service_form_1[thuchien_col_map],thuchien_after_filter,df_create_service_form_1)"
   ]
  },
  {
   "cell_type": "code",
   "execution_count": 166,
   "metadata": {},
   "outputs": [],
   "source": [
    "df_create_service_form_1 = map_thuchien_service_for_form(df_create_service_form_1[\"THỰC HIỆN T01\"],thuchien_after_filter_01,df_create_service_form_1)"
   ]
  },
  {
   "cell_type": "code",
   "execution_count": 167,
   "metadata": {},
   "outputs": [],
   "source": [
    "df_create_service_form_1 = map_thuchien_service_for_form(df_create_service_form_1[\"KỲ TRƯỚC\"],thuchien_after_filter_01,df_create_service_form_1)"
   ]
  },
  {
   "cell_type": "code",
   "execution_count": 168,
   "metadata": {},
   "outputs": [
    {
     "data": {
      "text/html": [
       "<div>\n",
       "<style scoped>\n",
       "    .dataframe tbody tr th:only-of-type {\n",
       "        vertical-align: middle;\n",
       "    }\n",
       "\n",
       "    .dataframe tbody tr th {\n",
       "        vertical-align: top;\n",
       "    }\n",
       "\n",
       "    .dataframe thead th {\n",
       "        text-align: right;\n",
       "    }\n",
       "</style>\n",
       "<table border=\"1\" class=\"dataframe\">\n",
       "  <thead>\n",
       "    <tr style=\"text-align: right;\">\n",
       "      <th></th>\n",
       "      <th>MA-NV</th>\n",
       "      <th>Nhân viên</th>\n",
       "      <th>KẾ HOẠCH T02</th>\n",
       "      <th>THỰC HIỆN T02</th>\n",
       "      <th>% THỰC HIỆN</th>\n",
       "      <th>KỲ TRƯỚC</th>\n",
       "      <th>% VỚI KỲ TRƯỚC</th>\n",
       "      <th>+/- VỚI KỲ TRƯỚC</th>\n",
       "      <th>THỰC HIỆN T01</th>\n",
       "      <th>% THỰC HIỆN T01</th>\n",
       "      <th>+ /- VỚI T01</th>\n",
       "    </tr>\n",
       "  </thead>\n",
       "  <tbody>\n",
       "    <tr>\n",
       "      <th>0</th>\n",
       "      <td>A</td>\n",
       "      <td>Tổng cộng</td>\n",
       "      <td>None</td>\n",
       "      <td>None</td>\n",
       "      <td>None</td>\n",
       "      <td>None</td>\n",
       "      <td>None</td>\n",
       "      <td>None</td>\n",
       "      <td>None</td>\n",
       "      <td>None</td>\n",
       "      <td>None</td>\n",
       "    </tr>\n",
       "    <tr>\n",
       "      <th>1</th>\n",
       "      <td>CTV080832</td>\n",
       "      <td>Trần Thanh Liêm</td>\n",
       "      <td>3.76</td>\n",
       "      <td>66.8128</td>\n",
       "      <td>None</td>\n",
       "      <td>66.7148</td>\n",
       "      <td>None</td>\n",
       "      <td>None</td>\n",
       "      <td>66.7148</td>\n",
       "      <td>None</td>\n",
       "      <td>None</td>\n",
       "    </tr>\n",
       "    <tr>\n",
       "      <th>2</th>\n",
       "      <td>CTV082537</td>\n",
       "      <td>Nguyễn Thị Hồng Hạnh</td>\n",
       "      <td>0.0</td>\n",
       "      <td>71.7286</td>\n",
       "      <td>None</td>\n",
       "      <td>71.6236</td>\n",
       "      <td>None</td>\n",
       "      <td>None</td>\n",
       "      <td>71.6236</td>\n",
       "      <td>None</td>\n",
       "      <td>None</td>\n",
       "    </tr>\n",
       "  </tbody>\n",
       "</table>\n",
       "</div>"
      ],
      "text/plain": [
       "       MA-NV             Nhân viên KẾ HOẠCH T02 THỰC HIỆN T02 % THỰC HIỆN  \\\n",
       "0          A             Tổng cộng         None          None        None   \n",
       "1  CTV080832       Trần Thanh Liêm         3.76       66.8128        None   \n",
       "2  CTV082537  Nguyễn Thị Hồng Hạnh          0.0       71.7286        None   \n",
       "\n",
       "  KỲ TRƯỚC % VỚI KỲ TRƯỚC +/- VỚI KỲ TRƯỚC THỰC HIỆN T01 % THỰC HIỆN T01  \\\n",
       "0     None           None             None          None            None   \n",
       "1  66.7148           None             None       66.7148            None   \n",
       "2  71.6236           None             None       71.6236            None   \n",
       "\n",
       "  + /- VỚI T01  \n",
       "0         None  \n",
       "1         None  \n",
       "2         None  "
      ]
     },
     "execution_count": 168,
     "metadata": {},
     "output_type": "execute_result"
    }
   ],
   "source": [
    "df_create_service_form_1"
   ]
  },
  {
   "cell_type": "code",
   "execution_count": null,
   "metadata": {},
   "outputs": [],
   "source": [
    "def update_summary_rows_service(df):\n",
    "    numeric_cols = df.columns[2:]  \n",
    "\n",
    "    sums = df.loc[1:, numeric_cols].sum()\n",
    "\n",
    "    df.loc[0, numeric_cols] = sums\n",
    "\n",
    "    return df"
   ]
  },
  {
   "cell_type": "code",
   "execution_count": 185,
   "metadata": {},
   "outputs": [],
   "source": [
    "df_create_service_form_1 = update_summary_rows_service(df_create_service_form_1)"
   ]
  },
  {
   "cell_type": "code",
   "execution_count": 189,
   "metadata": {},
   "outputs": [
    {
     "name": "stderr",
     "output_type": "stream",
     "text": [
      "C:\\Users\\ADMIN\\AppData\\Local\\Temp\\ipykernel_37432\\203376480.py:3: FutureWarning: Downcasting object dtype arrays on .fillna, .ffill, .bfill is deprecated and will change in a future version. Call result.infer_objects(copy=False) instead. To opt-in to the future behavior, set `pd.set_option('future.no_silent_downcasting', True)`\n",
      "  kq_dataframe = kq_dataframe.fillna(0).infer_objects(copy=False)\n"
     ]
    }
   ],
   "source": [
    "df_create_service_form_1 = update_form_1_table(df_create_service_form_1,thuchien_col_map, kehoach_col_map)"
   ]
  },
  {
   "cell_type": "code",
   "execution_count": 190,
   "metadata": {},
   "outputs": [
    {
     "data": {
      "text/html": [
       "<div>\n",
       "<style scoped>\n",
       "    .dataframe tbody tr th:only-of-type {\n",
       "        vertical-align: middle;\n",
       "    }\n",
       "\n",
       "    .dataframe tbody tr th {\n",
       "        vertical-align: top;\n",
       "    }\n",
       "\n",
       "    .dataframe thead th {\n",
       "        text-align: right;\n",
       "    }\n",
       "</style>\n",
       "<table border=\"1\" class=\"dataframe\">\n",
       "  <thead>\n",
       "    <tr style=\"text-align: right;\">\n",
       "      <th></th>\n",
       "      <th>MA-NV</th>\n",
       "      <th>Nhân viên</th>\n",
       "      <th>KẾ HOẠCH T02</th>\n",
       "      <th>THỰC HIỆN T02</th>\n",
       "      <th>% THỰC HIỆN</th>\n",
       "      <th>KỲ TRƯỚC</th>\n",
       "      <th>% VỚI KỲ TRƯỚC</th>\n",
       "      <th>+/- VỚI KỲ TRƯỚC</th>\n",
       "      <th>THỰC HIỆN T01</th>\n",
       "      <th>% THỰC HIỆN T01</th>\n",
       "      <th>+ /- VỚI T01</th>\n",
       "    </tr>\n",
       "  </thead>\n",
       "  <tbody>\n",
       "    <tr>\n",
       "      <th>0</th>\n",
       "      <td>A</td>\n",
       "      <td>Tổng cộng</td>\n",
       "      <td>3.76</td>\n",
       "      <td>138.5414</td>\n",
       "      <td>3684.611702</td>\n",
       "      <td>138.3384</td>\n",
       "      <td>100.146742</td>\n",
       "      <td>0.203</td>\n",
       "      <td>138.3384</td>\n",
       "      <td>100.146742</td>\n",
       "      <td>0.203</td>\n",
       "    </tr>\n",
       "    <tr>\n",
       "      <th>1</th>\n",
       "      <td>CTV080832</td>\n",
       "      <td>Trần Thanh Liêm</td>\n",
       "      <td>3.76</td>\n",
       "      <td>66.8128</td>\n",
       "      <td>1776.936170</td>\n",
       "      <td>66.7148</td>\n",
       "      <td>100.146894</td>\n",
       "      <td>0.098</td>\n",
       "      <td>66.7148</td>\n",
       "      <td>100.146894</td>\n",
       "      <td>0.098</td>\n",
       "    </tr>\n",
       "    <tr>\n",
       "      <th>2</th>\n",
       "      <td>CTV082537</td>\n",
       "      <td>Nguyễn Thị Hồng Hạnh</td>\n",
       "      <td>0.00</td>\n",
       "      <td>71.7286</td>\n",
       "      <td>0.000000</td>\n",
       "      <td>71.6236</td>\n",
       "      <td>100.146600</td>\n",
       "      <td>0.105</td>\n",
       "      <td>71.6236</td>\n",
       "      <td>100.146600</td>\n",
       "      <td>0.105</td>\n",
       "    </tr>\n",
       "  </tbody>\n",
       "</table>\n",
       "</div>"
      ],
      "text/plain": [
       "       MA-NV             Nhân viên  KẾ HOẠCH T02  THỰC HIỆN T02  % THỰC HIỆN  \\\n",
       "0          A             Tổng cộng          3.76       138.5414  3684.611702   \n",
       "1  CTV080832       Trần Thanh Liêm          3.76        66.8128  1776.936170   \n",
       "2  CTV082537  Nguyễn Thị Hồng Hạnh          0.00        71.7286     0.000000   \n",
       "\n",
       "   KỲ TRƯỚC  % VỚI KỲ TRƯỚC  +/- VỚI KỲ TRƯỚC  THỰC HIỆN T01  % THỰC HIỆN T01  \\\n",
       "0  138.3384      100.146742             0.203       138.3384       100.146742   \n",
       "1   66.7148      100.146894             0.098        66.7148       100.146894   \n",
       "2   71.6236      100.146600             0.105        71.6236       100.146600   \n",
       "\n",
       "   + /- VỚI T01  \n",
       "0         0.203  \n",
       "1         0.098  \n",
       "2         0.105  "
      ]
     },
     "execution_count": 190,
     "metadata": {},
     "output_type": "execute_result"
    }
   ],
   "source": [
    "df_create_service_form_1"
   ]
  },
  {
   "cell_type": "markdown",
   "metadata": {},
   "source": [
    "#### FORM 2 SERVICES"
   ]
  },
  {
   "cell_type": "code",
   "execution_count": 191,
   "metadata": {},
   "outputs": [],
   "source": [
    "ten_dv = \"Băng rộng\"\n",
    "line_nv = \"Line Cq Nhà Nước, Cơ Quan Hcsn\"\n",
    "thang = None\n",
    "loaidoanhthu = \"Phát triển mới\"\n",
    "year = 2024\n",
    "thuchien_after_filter = filter_thuchien_by_service(thuchien_after_load,ten_dv,thang,year,line_nv,loaidoanhthu)"
   ]
  },
  {
   "cell_type": "code",
   "execution_count": 192,
   "metadata": {},
   "outputs": [
    {
     "data": {
      "text/html": [
       "<div>\n",
       "<style scoped>\n",
       "    .dataframe tbody tr th:only-of-type {\n",
       "        vertical-align: middle;\n",
       "    }\n",
       "\n",
       "    .dataframe tbody tr th {\n",
       "        vertical-align: top;\n",
       "    }\n",
       "\n",
       "    .dataframe thead th {\n",
       "        text-align: right;\n",
       "    }\n",
       "</style>\n",
       "<table border=\"1\" class=\"dataframe\">\n",
       "  <thead>\n",
       "    <tr style=\"text-align: right;\">\n",
       "      <th></th>\n",
       "      <th>IDnhanvien</th>\n",
       "      <th>doanhthu</th>\n",
       "      <th>thang</th>\n",
       "      <th>year_insert</th>\n",
       "    </tr>\n",
       "  </thead>\n",
       "  <tbody>\n",
       "    <tr>\n",
       "      <th>0</th>\n",
       "      <td>CTV080832</td>\n",
       "      <td>66714800.0</td>\n",
       "      <td>1</td>\n",
       "      <td>2024</td>\n",
       "    </tr>\n",
       "    <tr>\n",
       "      <th>10</th>\n",
       "      <td>CTV082537</td>\n",
       "      <td>71623600.0</td>\n",
       "      <td>1</td>\n",
       "      <td>2024</td>\n",
       "    </tr>\n",
       "    <tr>\n",
       "      <th>21</th>\n",
       "      <td>CTV080832</td>\n",
       "      <td>66812800.0</td>\n",
       "      <td>2</td>\n",
       "      <td>2024</td>\n",
       "    </tr>\n",
       "    <tr>\n",
       "      <th>31</th>\n",
       "      <td>CTV082537</td>\n",
       "      <td>71728600.0</td>\n",
       "      <td>2</td>\n",
       "      <td>2024</td>\n",
       "    </tr>\n",
       "    <tr>\n",
       "      <th>42</th>\n",
       "      <td>CTV080832</td>\n",
       "      <td>66616800.0</td>\n",
       "      <td>3</td>\n",
       "      <td>2024</td>\n",
       "    </tr>\n",
       "    <tr>\n",
       "      <th>52</th>\n",
       "      <td>CTV082537</td>\n",
       "      <td>71518600.0</td>\n",
       "      <td>3</td>\n",
       "      <td>2024</td>\n",
       "    </tr>\n",
       "  </tbody>\n",
       "</table>\n",
       "</div>"
      ],
      "text/plain": [
       "   IDnhanvien    doanhthu  thang  year_insert\n",
       "0   CTV080832  66714800.0      1         2024\n",
       "10  CTV082537  71623600.0      1         2024\n",
       "21  CTV080832  66812800.0      2         2024\n",
       "31  CTV082537  71728600.0      2         2024\n",
       "42  CTV080832  66616800.0      3         2024\n",
       "52  CTV082537  71518600.0      3         2024"
      ]
     },
     "execution_count": 192,
     "metadata": {},
     "output_type": "execute_result"
    }
   ],
   "source": [
    "thuchien_after_filter"
   ]
  },
  {
   "cell_type": "code",
   "execution_count": 193,
   "metadata": {},
   "outputs": [],
   "source": [
    "def create_data_service_form_2(nhanvien_after_load):\n",
    "    columns = [\"MA-NV\", \"Nhân viên\"] + [f\"Tháng {i:02d}\" for i in range(1, 13)]\n",
    "\n",
    "    data = {\n",
    "        \"MA-NV\": [\"A\", *nhanvien_after_load[\"ma_nv\"].tolist()],\n",
    "        \"Nhân viên\": [\"Tổng cộng\"] + nhanvien_after_load[\"ten_nv\"].tolist(),\n",
    "    }\n",
    "\n",
    "    for col in columns[2:]:\n",
    "        data[col] = [None] * len(data[\"MA-NV\"])\n",
    "\n",
    "    # Tạo DataFrame\n",
    "    kq_dataframe = pd.DataFrame(data, columns=columns)\n",
    "\n",
    "    return kq_dataframe"
   ]
  },
  {
   "cell_type": "code",
   "execution_count": 194,
   "metadata": {},
   "outputs": [],
   "source": [
    "form_2_df_service = create_data_service_form_2(nhanvien_after_load)"
   ]
  },
  {
   "cell_type": "code",
   "execution_count": 195,
   "metadata": {},
   "outputs": [
    {
     "data": {
      "text/html": [
       "<div>\n",
       "<style scoped>\n",
       "    .dataframe tbody tr th:only-of-type {\n",
       "        vertical-align: middle;\n",
       "    }\n",
       "\n",
       "    .dataframe tbody tr th {\n",
       "        vertical-align: top;\n",
       "    }\n",
       "\n",
       "    .dataframe thead th {\n",
       "        text-align: right;\n",
       "    }\n",
       "</style>\n",
       "<table border=\"1\" class=\"dataframe\">\n",
       "  <thead>\n",
       "    <tr style=\"text-align: right;\">\n",
       "      <th></th>\n",
       "      <th>MA-NV</th>\n",
       "      <th>Nhân viên</th>\n",
       "      <th>Tháng 01</th>\n",
       "      <th>Tháng 02</th>\n",
       "      <th>Tháng 03</th>\n",
       "      <th>Tháng 04</th>\n",
       "      <th>Tháng 05</th>\n",
       "      <th>Tháng 06</th>\n",
       "      <th>Tháng 07</th>\n",
       "      <th>Tháng 08</th>\n",
       "      <th>Tháng 09</th>\n",
       "      <th>Tháng 10</th>\n",
       "      <th>Tháng 11</th>\n",
       "      <th>Tháng 12</th>\n",
       "    </tr>\n",
       "  </thead>\n",
       "  <tbody>\n",
       "    <tr>\n",
       "      <th>0</th>\n",
       "      <td>A</td>\n",
       "      <td>Tổng cộng</td>\n",
       "      <td>None</td>\n",
       "      <td>None</td>\n",
       "      <td>None</td>\n",
       "      <td>None</td>\n",
       "      <td>None</td>\n",
       "      <td>None</td>\n",
       "      <td>None</td>\n",
       "      <td>None</td>\n",
       "      <td>None</td>\n",
       "      <td>None</td>\n",
       "      <td>None</td>\n",
       "      <td>None</td>\n",
       "    </tr>\n",
       "    <tr>\n",
       "      <th>1</th>\n",
       "      <td>CTV080832</td>\n",
       "      <td>Trần Thanh Liêm</td>\n",
       "      <td>None</td>\n",
       "      <td>None</td>\n",
       "      <td>None</td>\n",
       "      <td>None</td>\n",
       "      <td>None</td>\n",
       "      <td>None</td>\n",
       "      <td>None</td>\n",
       "      <td>None</td>\n",
       "      <td>None</td>\n",
       "      <td>None</td>\n",
       "      <td>None</td>\n",
       "      <td>None</td>\n",
       "    </tr>\n",
       "    <tr>\n",
       "      <th>2</th>\n",
       "      <td>CTV082537</td>\n",
       "      <td>Nguyễn Thị Hồng Hạnh</td>\n",
       "      <td>None</td>\n",
       "      <td>None</td>\n",
       "      <td>None</td>\n",
       "      <td>None</td>\n",
       "      <td>None</td>\n",
       "      <td>None</td>\n",
       "      <td>None</td>\n",
       "      <td>None</td>\n",
       "      <td>None</td>\n",
       "      <td>None</td>\n",
       "      <td>None</td>\n",
       "      <td>None</td>\n",
       "    </tr>\n",
       "  </tbody>\n",
       "</table>\n",
       "</div>"
      ],
      "text/plain": [
       "       MA-NV             Nhân viên Tháng 01 Tháng 02 Tháng 03 Tháng 04  \\\n",
       "0          A             Tổng cộng     None     None     None     None   \n",
       "1  CTV080832       Trần Thanh Liêm     None     None     None     None   \n",
       "2  CTV082537  Nguyễn Thị Hồng Hạnh     None     None     None     None   \n",
       "\n",
       "  Tháng 05 Tháng 06 Tháng 07 Tháng 08 Tháng 09 Tháng 10 Tháng 11 Tháng 12  \n",
       "0     None     None     None     None     None     None     None     None  \n",
       "1     None     None     None     None     None     None     None     None  \n",
       "2     None     None     None     None     None     None     None     None  "
      ]
     },
     "execution_count": 195,
     "metadata": {},
     "output_type": "execute_result"
    }
   ],
   "source": [
    "form_2_df_service"
   ]
  },
  {
   "cell_type": "code",
   "execution_count": 196,
   "metadata": {},
   "outputs": [],
   "source": [
    "def map_thuchien_service_to_form_2(kq_thuchien, kq_dataframe):\n",
    "    for index, row in kq_thuchien.iterrows():\n",
    "        service = row['IDnhanvien']\n",
    "        month = row['thang']\n",
    "        revenue = row['doanhthu']\n",
    "\n",
    "        matching_rows = kq_dataframe[kq_dataframe[\"MA-NV\"] == service]\n",
    "\n",
    "        if not matching_rows.empty:\n",
    "            matching_index = matching_rows.index[0]\n",
    "            kq_dataframe.at[matching_index, f\"Tháng {int(month):02d}\"] = revenue/1000000\n",
    "        else:\n",
    "            print(f\"MA-NV '{service}' không được tìm thấy trong DataFrame 'kq_dataframe'.\")\n",
    "    \n",
    "    return kq_dataframe"
   ]
  },
  {
   "cell_type": "code",
   "execution_count": 197,
   "metadata": {},
   "outputs": [],
   "source": [
    "form_2_df_service= map_thuchien_service_to_form_2(thuchien_after_filter, form_2_df_service)"
   ]
  },
  {
   "cell_type": "code",
   "execution_count": 199,
   "metadata": {},
   "outputs": [],
   "source": [
    "form_2_df_service = update_summary_rows_service(form_2_df_service)"
   ]
  },
  {
   "cell_type": "code",
   "execution_count": 200,
   "metadata": {},
   "outputs": [
    {
     "data": {
      "text/html": [
       "<div>\n",
       "<style scoped>\n",
       "    .dataframe tbody tr th:only-of-type {\n",
       "        vertical-align: middle;\n",
       "    }\n",
       "\n",
       "    .dataframe tbody tr th {\n",
       "        vertical-align: top;\n",
       "    }\n",
       "\n",
       "    .dataframe thead th {\n",
       "        text-align: right;\n",
       "    }\n",
       "</style>\n",
       "<table border=\"1\" class=\"dataframe\">\n",
       "  <thead>\n",
       "    <tr style=\"text-align: right;\">\n",
       "      <th></th>\n",
       "      <th>MA-NV</th>\n",
       "      <th>Nhân viên</th>\n",
       "      <th>Tháng 01</th>\n",
       "      <th>Tháng 02</th>\n",
       "      <th>Tháng 03</th>\n",
       "      <th>Tháng 04</th>\n",
       "      <th>Tháng 05</th>\n",
       "      <th>Tháng 06</th>\n",
       "      <th>Tháng 07</th>\n",
       "      <th>Tháng 08</th>\n",
       "      <th>Tháng 09</th>\n",
       "      <th>Tháng 10</th>\n",
       "      <th>Tháng 11</th>\n",
       "      <th>Tháng 12</th>\n",
       "    </tr>\n",
       "  </thead>\n",
       "  <tbody>\n",
       "    <tr>\n",
       "      <th>0</th>\n",
       "      <td>A</td>\n",
       "      <td>Tổng cộng</td>\n",
       "      <td>138.3384</td>\n",
       "      <td>138.5414</td>\n",
       "      <td>138.1354</td>\n",
       "      <td>0</td>\n",
       "      <td>0</td>\n",
       "      <td>0</td>\n",
       "      <td>0</td>\n",
       "      <td>0</td>\n",
       "      <td>0</td>\n",
       "      <td>0</td>\n",
       "      <td>0</td>\n",
       "      <td>0</td>\n",
       "    </tr>\n",
       "    <tr>\n",
       "      <th>1</th>\n",
       "      <td>CTV080832</td>\n",
       "      <td>Trần Thanh Liêm</td>\n",
       "      <td>66.7148</td>\n",
       "      <td>66.8128</td>\n",
       "      <td>66.6168</td>\n",
       "      <td>None</td>\n",
       "      <td>None</td>\n",
       "      <td>None</td>\n",
       "      <td>None</td>\n",
       "      <td>None</td>\n",
       "      <td>None</td>\n",
       "      <td>None</td>\n",
       "      <td>None</td>\n",
       "      <td>None</td>\n",
       "    </tr>\n",
       "    <tr>\n",
       "      <th>2</th>\n",
       "      <td>CTV082537</td>\n",
       "      <td>Nguyễn Thị Hồng Hạnh</td>\n",
       "      <td>71.6236</td>\n",
       "      <td>71.7286</td>\n",
       "      <td>71.5186</td>\n",
       "      <td>None</td>\n",
       "      <td>None</td>\n",
       "      <td>None</td>\n",
       "      <td>None</td>\n",
       "      <td>None</td>\n",
       "      <td>None</td>\n",
       "      <td>None</td>\n",
       "      <td>None</td>\n",
       "      <td>None</td>\n",
       "    </tr>\n",
       "  </tbody>\n",
       "</table>\n",
       "</div>"
      ],
      "text/plain": [
       "       MA-NV             Nhân viên  Tháng 01  Tháng 02  Tháng 03 Tháng 04  \\\n",
       "0          A             Tổng cộng  138.3384  138.5414  138.1354        0   \n",
       "1  CTV080832       Trần Thanh Liêm   66.7148   66.8128   66.6168     None   \n",
       "2  CTV082537  Nguyễn Thị Hồng Hạnh   71.6236   71.7286   71.5186     None   \n",
       "\n",
       "  Tháng 05 Tháng 06 Tháng 07 Tháng 08 Tháng 09 Tháng 10 Tháng 11 Tháng 12  \n",
       "0        0        0        0        0        0        0        0        0  \n",
       "1     None     None     None     None     None     None     None     None  \n",
       "2     None     None     None     None     None     None     None     None  "
      ]
     },
     "execution_count": 200,
     "metadata": {},
     "output_type": "execute_result"
    }
   ],
   "source": [
    "form_2_df_service"
   ]
  },
  {
   "cell_type": "markdown",
   "metadata": {},
   "source": [
    "#### FORM 3 SERVICES"
   ]
  },
  {
   "cell_type": "code",
   "execution_count": 205,
   "metadata": {},
   "outputs": [],
   "source": [
    "ma_dv = \"1.1.01\"\n",
    "line_nv = \"Line Cq Nhà Nước, Cơ Quan Hcsn\"\n",
    "thang = None\n",
    "loaidoanhthu = \"Phát triển mới\"\n",
    "year = 2024\n",
    "kehoach_after_filter_no_month = filter_kehoach_by_service(kehoach_after_load,nhanvien_after_load,line_nv,ma_dv,thang,year,loaidoanhthu)"
   ]
  },
  {
   "cell_type": "code",
   "execution_count": 206,
   "metadata": {},
   "outputs": [
    {
     "data": {
      "text/html": [
       "<div>\n",
       "<style scoped>\n",
       "    .dataframe tbody tr th:only-of-type {\n",
       "        vertical-align: middle;\n",
       "    }\n",
       "\n",
       "    .dataframe tbody tr th {\n",
       "        vertical-align: top;\n",
       "    }\n",
       "\n",
       "    .dataframe thead th {\n",
       "        text-align: right;\n",
       "    }\n",
       "</style>\n",
       "<table border=\"1\" class=\"dataframe\">\n",
       "  <thead>\n",
       "    <tr style=\"text-align: right;\">\n",
       "      <th></th>\n",
       "      <th>ma_nv</th>\n",
       "      <th>ten_nv</th>\n",
       "      <th>t1</th>\n",
       "      <th>t2</th>\n",
       "      <th>t3</th>\n",
       "      <th>t4</th>\n",
       "      <th>t5</th>\n",
       "      <th>t6</th>\n",
       "      <th>t7</th>\n",
       "      <th>t8</th>\n",
       "      <th>t9</th>\n",
       "      <th>t10</th>\n",
       "      <th>t11</th>\n",
       "      <th>t12</th>\n",
       "    </tr>\n",
       "  </thead>\n",
       "  <tbody>\n",
       "    <tr>\n",
       "      <th>38</th>\n",
       "      <td>CTV080832</td>\n",
       "      <td>Trần Thanh Liêm</td>\n",
       "      <td>2070000.0</td>\n",
       "      <td>5880000.0</td>\n",
       "      <td>10120000.0</td>\n",
       "      <td>14070000.0</td>\n",
       "      <td>16980000.0</td>\n",
       "      <td>20020000.0</td>\n",
       "      <td>23140000.0</td>\n",
       "      <td>26330000.0</td>\n",
       "      <td>29450000.0</td>\n",
       "      <td>32430000.0</td>\n",
       "      <td>35550000.0</td>\n",
       "      <td>38740000.0</td>\n",
       "    </tr>\n",
       "    <tr>\n",
       "      <th>57</th>\n",
       "      <td>CTV082537</td>\n",
       "      <td>Nguyễn Thị Hồng Hạnh</td>\n",
       "      <td>0.0</td>\n",
       "      <td>0.0</td>\n",
       "      <td>0.0</td>\n",
       "      <td>0.0</td>\n",
       "      <td>0.0</td>\n",
       "      <td>0.0</td>\n",
       "      <td>50000.0</td>\n",
       "      <td>50000.0</td>\n",
       "      <td>50000.0</td>\n",
       "      <td>50000.0</td>\n",
       "      <td>50000.0</td>\n",
       "      <td>50000.0</td>\n",
       "    </tr>\n",
       "  </tbody>\n",
       "</table>\n",
       "</div>"
      ],
      "text/plain": [
       "        ma_nv                ten_nv         t1         t2          t3  \\\n",
       "38  CTV080832       Trần Thanh Liêm  2070000.0  5880000.0  10120000.0   \n",
       "57  CTV082537  Nguyễn Thị Hồng Hạnh        0.0        0.0         0.0   \n",
       "\n",
       "            t4          t5          t6          t7          t8          t9  \\\n",
       "38  14070000.0  16980000.0  20020000.0  23140000.0  26330000.0  29450000.0   \n",
       "57         0.0         0.0         0.0     50000.0     50000.0     50000.0   \n",
       "\n",
       "           t10         t11         t12  \n",
       "38  32430000.0  35550000.0  38740000.0  \n",
       "57     50000.0     50000.0     50000.0  "
      ]
     },
     "execution_count": 206,
     "metadata": {},
     "output_type": "execute_result"
    }
   ],
   "source": [
    "kehoach_after_filter_no_month"
   ]
  },
  {
   "cell_type": "code",
   "execution_count": 207,
   "metadata": {},
   "outputs": [],
   "source": [
    "df_form3_service = create_data_service_form_2(nhanvien_after_load)"
   ]
  },
  {
   "cell_type": "code",
   "execution_count": 209,
   "metadata": {},
   "outputs": [],
   "source": [
    "def map_kehoach_to_form_2(kq_kehoach, kq_dataframe):\n",
    "        for index, row in kq_kehoach.iterrows():\n",
    "            employee = row[\"ma_nv\"]\n",
    " \n",
    "            matching_rows = kq_dataframe[kq_dataframe[\"MA-NV\"] == employee]\n",
    "\n",
    "            if not matching_rows.empty:\n",
    "                matching_index = matching_rows.index[0]\n",
    "                kq_dataframe.iloc[matching_index, 2:] = row[2:].values / 1000000\n",
    "            else:\n",
    "                print(f\"Nhan vien '{employee}' không được tìm thấy trong DataFrame 'kq_dataframe'.\")\n",
    "\n",
    "        return kq_dataframe"
   ]
  },
  {
   "cell_type": "code",
   "execution_count": 210,
   "metadata": {},
   "outputs": [],
   "source": [
    "df_form3_service = map_kehoach_to_form_2(kehoach_after_filter_no_month, df_form3_service)"
   ]
  },
  {
   "cell_type": "code",
   "execution_count": 211,
   "metadata": {},
   "outputs": [
    {
     "data": {
      "text/html": [
       "<div>\n",
       "<style scoped>\n",
       "    .dataframe tbody tr th:only-of-type {\n",
       "        vertical-align: middle;\n",
       "    }\n",
       "\n",
       "    .dataframe tbody tr th {\n",
       "        vertical-align: top;\n",
       "    }\n",
       "\n",
       "    .dataframe thead th {\n",
       "        text-align: right;\n",
       "    }\n",
       "</style>\n",
       "<table border=\"1\" class=\"dataframe\">\n",
       "  <thead>\n",
       "    <tr style=\"text-align: right;\">\n",
       "      <th></th>\n",
       "      <th>MA-NV</th>\n",
       "      <th>Nhân viên</th>\n",
       "      <th>Tháng 01</th>\n",
       "      <th>Tháng 02</th>\n",
       "      <th>Tháng 03</th>\n",
       "      <th>Tháng 04</th>\n",
       "      <th>Tháng 05</th>\n",
       "      <th>Tháng 06</th>\n",
       "      <th>Tháng 07</th>\n",
       "      <th>Tháng 08</th>\n",
       "      <th>Tháng 09</th>\n",
       "      <th>Tháng 10</th>\n",
       "      <th>Tháng 11</th>\n",
       "      <th>Tháng 12</th>\n",
       "    </tr>\n",
       "  </thead>\n",
       "  <tbody>\n",
       "    <tr>\n",
       "      <th>0</th>\n",
       "      <td>A</td>\n",
       "      <td>Tổng cộng</td>\n",
       "      <td>None</td>\n",
       "      <td>None</td>\n",
       "      <td>None</td>\n",
       "      <td>None</td>\n",
       "      <td>None</td>\n",
       "      <td>None</td>\n",
       "      <td>None</td>\n",
       "      <td>None</td>\n",
       "      <td>None</td>\n",
       "      <td>None</td>\n",
       "      <td>None</td>\n",
       "      <td>None</td>\n",
       "    </tr>\n",
       "    <tr>\n",
       "      <th>1</th>\n",
       "      <td>CTV080832</td>\n",
       "      <td>Trần Thanh Liêm</td>\n",
       "      <td>2.07</td>\n",
       "      <td>5.88</td>\n",
       "      <td>10.12</td>\n",
       "      <td>14.07</td>\n",
       "      <td>16.98</td>\n",
       "      <td>20.02</td>\n",
       "      <td>23.14</td>\n",
       "      <td>26.33</td>\n",
       "      <td>29.45</td>\n",
       "      <td>32.43</td>\n",
       "      <td>35.55</td>\n",
       "      <td>38.74</td>\n",
       "    </tr>\n",
       "    <tr>\n",
       "      <th>2</th>\n",
       "      <td>CTV082537</td>\n",
       "      <td>Nguyễn Thị Hồng Hạnh</td>\n",
       "      <td>0.0</td>\n",
       "      <td>0.0</td>\n",
       "      <td>0.0</td>\n",
       "      <td>0.0</td>\n",
       "      <td>0.0</td>\n",
       "      <td>0.0</td>\n",
       "      <td>0.05</td>\n",
       "      <td>0.05</td>\n",
       "      <td>0.05</td>\n",
       "      <td>0.05</td>\n",
       "      <td>0.05</td>\n",
       "      <td>0.05</td>\n",
       "    </tr>\n",
       "  </tbody>\n",
       "</table>\n",
       "</div>"
      ],
      "text/plain": [
       "       MA-NV             Nhân viên Tháng 01 Tháng 02 Tháng 03 Tháng 04  \\\n",
       "0          A             Tổng cộng     None     None     None     None   \n",
       "1  CTV080832       Trần Thanh Liêm     2.07     5.88    10.12    14.07   \n",
       "2  CTV082537  Nguyễn Thị Hồng Hạnh      0.0      0.0      0.0      0.0   \n",
       "\n",
       "  Tháng 05 Tháng 06 Tháng 07 Tháng 08 Tháng 09 Tháng 10 Tháng 11 Tháng 12  \n",
       "0     None     None     None     None     None     None     None     None  \n",
       "1    16.98    20.02    23.14    26.33    29.45    32.43    35.55    38.74  \n",
       "2      0.0      0.0     0.05     0.05     0.05     0.05     0.05     0.05  "
      ]
     },
     "execution_count": 211,
     "metadata": {},
     "output_type": "execute_result"
    }
   ],
   "source": [
    "df_form3_service"
   ]
  },
  {
   "cell_type": "code",
   "execution_count": 212,
   "metadata": {},
   "outputs": [],
   "source": [
    "df_form3_service = update_summary_rows_service(df_form3_service)"
   ]
  },
  {
   "cell_type": "code",
   "execution_count": 213,
   "metadata": {},
   "outputs": [
    {
     "data": {
      "text/html": [
       "<div>\n",
       "<style scoped>\n",
       "    .dataframe tbody tr th:only-of-type {\n",
       "        vertical-align: middle;\n",
       "    }\n",
       "\n",
       "    .dataframe tbody tr th {\n",
       "        vertical-align: top;\n",
       "    }\n",
       "\n",
       "    .dataframe thead th {\n",
       "        text-align: right;\n",
       "    }\n",
       "</style>\n",
       "<table border=\"1\" class=\"dataframe\">\n",
       "  <thead>\n",
       "    <tr style=\"text-align: right;\">\n",
       "      <th></th>\n",
       "      <th>MA-NV</th>\n",
       "      <th>Nhân viên</th>\n",
       "      <th>Tháng 01</th>\n",
       "      <th>Tháng 02</th>\n",
       "      <th>Tháng 03</th>\n",
       "      <th>Tháng 04</th>\n",
       "      <th>Tháng 05</th>\n",
       "      <th>Tháng 06</th>\n",
       "      <th>Tháng 07</th>\n",
       "      <th>Tháng 08</th>\n",
       "      <th>Tháng 09</th>\n",
       "      <th>Tháng 10</th>\n",
       "      <th>Tháng 11</th>\n",
       "      <th>Tháng 12</th>\n",
       "    </tr>\n",
       "  </thead>\n",
       "  <tbody>\n",
       "    <tr>\n",
       "      <th>0</th>\n",
       "      <td>A</td>\n",
       "      <td>Tổng cộng</td>\n",
       "      <td>2.07</td>\n",
       "      <td>5.88</td>\n",
       "      <td>10.12</td>\n",
       "      <td>14.07</td>\n",
       "      <td>16.98</td>\n",
       "      <td>20.02</td>\n",
       "      <td>23.19</td>\n",
       "      <td>26.38</td>\n",
       "      <td>29.5</td>\n",
       "      <td>32.48</td>\n",
       "      <td>35.6</td>\n",
       "      <td>38.79</td>\n",
       "    </tr>\n",
       "    <tr>\n",
       "      <th>1</th>\n",
       "      <td>CTV080832</td>\n",
       "      <td>Trần Thanh Liêm</td>\n",
       "      <td>2.07</td>\n",
       "      <td>5.88</td>\n",
       "      <td>10.12</td>\n",
       "      <td>14.07</td>\n",
       "      <td>16.98</td>\n",
       "      <td>20.02</td>\n",
       "      <td>23.14</td>\n",
       "      <td>26.33</td>\n",
       "      <td>29.45</td>\n",
       "      <td>32.43</td>\n",
       "      <td>35.55</td>\n",
       "      <td>38.74</td>\n",
       "    </tr>\n",
       "    <tr>\n",
       "      <th>2</th>\n",
       "      <td>CTV082537</td>\n",
       "      <td>Nguyễn Thị Hồng Hạnh</td>\n",
       "      <td>0.0</td>\n",
       "      <td>0.0</td>\n",
       "      <td>0.0</td>\n",
       "      <td>0.0</td>\n",
       "      <td>0.0</td>\n",
       "      <td>0.0</td>\n",
       "      <td>0.05</td>\n",
       "      <td>0.05</td>\n",
       "      <td>0.05</td>\n",
       "      <td>0.05</td>\n",
       "      <td>0.05</td>\n",
       "      <td>0.05</td>\n",
       "    </tr>\n",
       "  </tbody>\n",
       "</table>\n",
       "</div>"
      ],
      "text/plain": [
       "       MA-NV             Nhân viên Tháng 01 Tháng 02 Tháng 03 Tháng 04  \\\n",
       "0          A             Tổng cộng     2.07     5.88    10.12    14.07   \n",
       "1  CTV080832       Trần Thanh Liêm     2.07     5.88    10.12    14.07   \n",
       "2  CTV082537  Nguyễn Thị Hồng Hạnh      0.0      0.0      0.0      0.0   \n",
       "\n",
       "  Tháng 05 Tháng 06 Tháng 07 Tháng 08 Tháng 09 Tháng 10 Tháng 11 Tháng 12  \n",
       "0    16.98    20.02    23.19    26.38     29.5    32.48     35.6    38.79  \n",
       "1    16.98    20.02    23.14    26.33    29.45    32.43    35.55    38.74  \n",
       "2      0.0      0.0     0.05     0.05     0.05     0.05     0.05     0.05  "
      ]
     },
     "execution_count": 213,
     "metadata": {},
     "output_type": "execute_result"
    }
   ],
   "source": [
    "df_form3_service"
   ]
  },
  {
   "cell_type": "code",
   "execution_count": 6,
   "metadata": {},
   "outputs": [],
   "source": [
    "def query_to_dataframe(query, conn):\n",
    "    cursor = conn.cursor(dictionary=True)  # Dùng dictionary=True để trả kết quả dạng dict\n",
    "    cursor.execute(query)\n",
    "    data = cursor.fetchall()  # Lấy toàn bộ dữ liệu\n",
    "    cursor.close()\n",
    "    return pd.DataFrame(data)"
   ]
  },
  {
   "cell_type": "code",
   "execution_count": 12,
   "metadata": {},
   "outputs": [],
   "source": [
    "def load_data(conn):\n",
    "    try:\n",
    "        dichvu = query_to_dataframe(\"SELECT * FROM dichvu\", conn)\n",
    "        line = query_to_dataframe(\"SELECT * FROM line_manage\", conn)\n",
    "        return dichvu, line\n",
    "    finally:\n",
    "        conn.close()"
   ]
  },
  {
   "cell_type": "code",
   "execution_count": 81,
   "metadata": {},
   "outputs": [
    {
     "name": "stdout",
     "output_type": "stream",
     "text": [
      "Kết nối đến cơ sở dữ liệu thành công.\n"
     ]
    }
   ],
   "source": [
    "conn,cursor = connect_to_mysql()"
   ]
  },
  {
   "cell_type": "code",
   "execution_count": 82,
   "metadata": {},
   "outputs": [],
   "source": [
    "dichvu, line = load_data(conn)"
   ]
  },
  {
   "cell_type": "code",
   "execution_count": 83,
   "metadata": {},
   "outputs": [],
   "source": [
    "def build_hierarchy(df):\n",
    "    if not {'ma_dv_id66', 'ten_dv', 'danh_muc_tt'}.issubset(df.columns):\n",
    "        raise ValueError(\"DataFrame phải có các cột 'ma_dv_id66', 'ten_dv', và 'danh_muc_tt'\")\n",
    "    \n",
    "    df['full_path'] = df['ten_dv']\n",
    "\n",
    "    def build_full_path(row, df):\n",
    "        if pd.isna(row['danh_muc_tt']):\n",
    "            return row['ten_dv']\n",
    "        else:\n",
    "            parent_row = df[df['ma_dv_id66'] == row['danh_muc_tt']]\n",
    "            if not parent_row.empty:\n",
    "                parent_full_path = parent_row['full_path'].values[0]\n",
    "                return f\"{parent_full_path}.{row['ten_dv']}\"\n",
    "            return row['ten_dv']\n",
    "\n",
    "    df['full_path'] = df.apply(lambda row: build_full_path(row, df), axis=1)\n",
    "\n",
    "    df_all = df.sort_values(by=['ma_dv_id66', 'full_path'])\n",
    "    \n",
    "    df_filtered = df[df['ma_dv_id66'].str.count('\\.') <= 2]\n",
    "    \n",
    "    return df_all[['ma_dv_id66', 'ten_dv', 'full_path']], df_filtered[['ma_dv_id66', 'ten_dv', 'full_path']]"
   ]
  },
  {
   "cell_type": "code",
   "execution_count": 85,
   "metadata": {},
   "outputs": [],
   "source": [
    "def sorted_service_from_db(dichvu):\n",
    "    df_all_1,df_all_2 = build_hierarchy(dichvu)\n",
    "    ma_dv_1 = df_all_1['ma_dv_id66'].tolist()\n",
    "    ten_dv_1 = df_all_2['ten_dv'].tolist()\n",
    "    ma_dv_2 = df_all_2['ma_dv_id66'].tolist()\n",
    "    ten_dv_2 = df_all_2['ten_dv'].tolist()\n",
    "    return ma_dv_1, ten_dv_1, ma_dv_2, ten_dv_2"
   ]
  },
  {
   "cell_type": "code",
   "execution_count": 86,
   "metadata": {},
   "outputs": [],
   "source": [
    "ma_dv_1, ten_dv_1, ma_dv_2, ten_dv_2 = sorted_service_from_db(dichvu)"
   ]
  },
  {
   "cell_type": "code",
   "execution_count": null,
   "metadata": {},
   "outputs": [],
   "source": [
    "def create_dataframe_thuchien_tt(thang, ma_dv, ten_dv):\n",
    "    ke_hoach_col = f\"KẾ HOẠCH T{thang:02d}\"\n",
    "    thuc_hien_col = f\"THỰC HIỆN T{thang:02d}\"\n",
    "    if thang == 1:\n",
    "        thuc_hien_col = \"THỰC HIỆN T1\"\n",
    "    columns = [\"STT\", \"Dịch vụ\", ke_hoach_col, thuc_hien_col, \"% THỰC HIỆN\", \"KỲ TRƯỚC\", \"% VỚI KỲ TRƯỚC\", \"+/- VỚI KỲ TRƯỚC\", \"THỰC HIỆN T01\", \"% THỰC HIỆN T01\", \"+ /- VỚI T01\"]\n",
    "\n",
    "    # Dữ liệu\n",
    "    data = {\n",
    "        \"STT\": [*ma_dv],\n",
    "        \"Dịch vụ\": [*ten_dv],\n",
    "    }\n",
    "\n",
    "    for col in columns[2:]:\n",
    "        data[col] = [None] * len(data[\"STT\"])\n",
    "\n",
    "    # Tạo DataFrame\n",
    "    kq_thuchien = pd.DataFrame(data, columns=columns)\n",
    "    return kq_thuchien, ke_hoach_col, thuc_hien_col"
   ]
  },
  {
   "cell_type": "code",
   "execution_count": 88,
   "metadata": {},
   "outputs": [],
   "source": [
    "kq_thuchien, ke_hoach_col, thuc_hien_col = create_dataframe_thuchien_tt(2, ma_dv_2, ten_dv_2)"
   ]
  },
  {
   "cell_type": "code",
   "execution_count": 90,
   "metadata": {},
   "outputs": [],
   "source": [
    "def create_dataframe_form_2(ma_dv, ten_dv):\n",
    "    columns = [\"STT\", \"Dịch vụ\"] + [f\"Tháng {i:02d}\" for i in range(1, 13)]\n",
    "\n",
    "    data = {\n",
    "        \"STT\": [*ma_dv],\n",
    "        \"Dịch vụ\": [*ten_dv],\n",
    "    }\n",
    "\n",
    "    # Tạo DataFrame\n",
    "    kq_dataframe = pd.DataFrame(data, columns=columns)\n",
    "\n",
    "    return kq_dataframe"
   ]
  },
  {
   "cell_type": "code",
   "execution_count": 91,
   "metadata": {},
   "outputs": [],
   "source": [
    "kq_dataframe = create_dataframe_form_2(ma_dv_2, ten_dv_2)"
   ]
  },
  {
   "cell_type": "code",
   "execution_count": null,
   "metadata": {},
   "outputs": [],
   "source": [
    "kq_dataframe"
   ]
  },
  {
   "cell_type": "code",
   "execution_count": 96,
   "metadata": {},
   "outputs": [],
   "source": [
    "df_test = pd.read_excel(\"../ket_qua_danh_muc_tt.xlsx\", sheet_name=\"Sheet1\")"
   ]
  },
  {
   "cell_type": "code",
   "execution_count": 97,
   "metadata": {},
   "outputs": [],
   "source": [
    "df_test_2 = pd.read_excel(\"../ket_qua_danh_muc_tt.xlsx\", sheet_name=\"ket_qua_danh_muc_tt\")"
   ]
  },
  {
   "cell_type": "code",
   "execution_count": null,
   "metadata": {},
   "outputs": [],
   "source": [
    "df_test_2"
   ]
  },
  {
   "cell_type": "code",
   "execution_count": null,
   "metadata": {},
   "outputs": [
    {
     "name": "stdout",
     "output_type": "stream",
     "text": [
      "                   nhom_dv ma_dv_id6\n",
      "0                Băng rộng       2.2\n",
      "1           Chính quyền số    1.1.02\n",
      "2                  Cố định       2.3\n",
      "3          Di động trả sau    2.1.02\n",
      "4        Dịch vụ GTGT khác       2.6\n",
      "..                     ...       ...\n",
      "121         Gói GD,VP,Home    2.1.03\n",
      "122           Hạ tầng CNTT    1.1.01\n",
      "123                   MyTV    1.2.01\n",
      "124  Quản trị doanh nghiệp    1.1.07\n",
      "125         Truyền số liệu       2.5\n",
      "\n",
      "[126 rows x 2 columns]\n"
     ]
    }
   ],
   "source": [
    "# Merge df_test_2 with df_test to get the corresponding ma_dv_id6 values\n",
    "df_merged = df_test_2.merge(df_test, left_on='nhom_dv', right_on='ten_dv', how='left')\n",
    "\n",
    "# Select the relevant columns\n",
    "df_merged = df_merged[['nhom_dv', 'ma_dv_id6']]\n",
    "\n"
   ]
  },
  {
   "cell_type": "code",
   "execution_count": 102,
   "metadata": {},
   "outputs": [],
   "source": [
    "df_merged = pd.DataFrame(df_merged)"
   ]
  },
  {
   "cell_type": "code",
   "execution_count": 105,
   "metadata": {},
   "outputs": [],
   "source": [
    "df_merged.to_excel(\"../ket_qua_danh_muc_tt.xlsx\", sheet_name=\"Sheet3\", index=False)\n"
   ]
  }
 ],
 "metadata": {
  "kernelspec": {
   "display_name": "Python 3",
   "language": "python",
   "name": "python3"
  },
  "language_info": {
   "codemirror_mode": {
    "name": "ipython",
    "version": 3
   },
   "file_extension": ".py",
   "mimetype": "text/x-python",
   "name": "python",
   "nbconvert_exporter": "python",
   "pygments_lexer": "ipython3",
   "version": "3.11.5"
  }
 },
 "nbformat": 4,
 "nbformat_minor": 2
}
